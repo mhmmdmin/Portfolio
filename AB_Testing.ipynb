{
  "cells": [
    {
      "cell_type": "markdown",
      "metadata": {
        "id": "view-in-github",
        "colab_type": "text"
      },
      "source": [
        "<a href=\"https://colab.research.google.com/github/mhmmdmin/Portfolio/blob/main/AB_Testing.ipynb\" target=\"_parent\"><img src=\"https://colab.research.google.com/assets/colab-badge.svg\" alt=\"Open In Colab\"/></a>"
      ]
    },
    {
      "cell_type": "markdown",
      "metadata": {
        "id": "Yz_uUIPqdBB6"
      },
      "source": [
        "#Install and Load Packages"
      ]
    },
    {
      "cell_type": "code",
      "execution_count": 1,
      "metadata": {
        "colab": {
          "base_uri": "https://localhost:8080/"
        },
        "id": "mD5UGAjjg-j5",
        "outputId": "0923058a-2bea-470e-e051-f1ae2d21f1d1"
      },
      "outputs": [
        {
          "output_type": "stream",
          "name": "stdout",
          "text": [
            "Looking in indexes: https://pypi.org/simple, https://us-python.pkg.dev/colab-wheels/public/simple/\n",
            "Requirement already satisfied: dython in /usr/local/lib/python3.7/dist-packages (0.7.2)\n",
            "Requirement already satisfied: pandas>=1.3.2 in /usr/local/lib/python3.7/dist-packages (from dython) (1.3.5)\n",
            "Requirement already satisfied: numpy>=1.19.5 in /usr/local/lib/python3.7/dist-packages (from dython) (1.21.6)\n",
            "Requirement already satisfied: scipy>=1.7.1 in /usr/local/lib/python3.7/dist-packages (from dython) (1.7.3)\n",
            "Requirement already satisfied: psutil>=5.9.1 in /usr/local/lib/python3.7/dist-packages (from dython) (5.9.3)\n",
            "Requirement already satisfied: scikit-plot>=0.3.7 in /usr/local/lib/python3.7/dist-packages (from dython) (0.3.7)\n",
            "Requirement already satisfied: scikit-learn>=0.24.2 in /usr/local/lib/python3.7/dist-packages (from dython) (1.0.2)\n",
            "Requirement already satisfied: seaborn>=0.11.0 in /usr/local/lib/python3.7/dist-packages (from dython) (0.11.2)\n",
            "Requirement already satisfied: matplotlib>=3.4.3 in /usr/local/lib/python3.7/dist-packages (from dython) (3.5.3)\n",
            "Requirement already satisfied: pillow>=6.2.0 in /usr/local/lib/python3.7/dist-packages (from matplotlib>=3.4.3->dython) (7.1.2)\n",
            "Requirement already satisfied: kiwisolver>=1.0.1 in /usr/local/lib/python3.7/dist-packages (from matplotlib>=3.4.3->dython) (1.4.4)\n",
            "Requirement already satisfied: fonttools>=4.22.0 in /usr/local/lib/python3.7/dist-packages (from matplotlib>=3.4.3->dython) (4.38.0)\n",
            "Requirement already satisfied: cycler>=0.10 in /usr/local/lib/python3.7/dist-packages (from matplotlib>=3.4.3->dython) (0.11.0)\n",
            "Requirement already satisfied: pyparsing>=2.2.1 in /usr/local/lib/python3.7/dist-packages (from matplotlib>=3.4.3->dython) (3.0.9)\n",
            "Requirement already satisfied: python-dateutil>=2.7 in /usr/local/lib/python3.7/dist-packages (from matplotlib>=3.4.3->dython) (2.8.2)\n",
            "Requirement already satisfied: packaging>=20.0 in /usr/local/lib/python3.7/dist-packages (from matplotlib>=3.4.3->dython) (21.3)\n",
            "Requirement already satisfied: typing-extensions in /usr/local/lib/python3.7/dist-packages (from kiwisolver>=1.0.1->matplotlib>=3.4.3->dython) (4.1.1)\n",
            "Requirement already satisfied: pytz>=2017.3 in /usr/local/lib/python3.7/dist-packages (from pandas>=1.3.2->dython) (2022.5)\n",
            "Requirement already satisfied: six>=1.5 in /usr/local/lib/python3.7/dist-packages (from python-dateutil>=2.7->matplotlib>=3.4.3->dython) (1.15.0)\n",
            "Requirement already satisfied: threadpoolctl>=2.0.0 in /usr/local/lib/python3.7/dist-packages (from scikit-learn>=0.24.2->dython) (3.1.0)\n",
            "Requirement already satisfied: joblib>=0.11 in /usr/local/lib/python3.7/dist-packages (from scikit-learn>=0.24.2->dython) (1.2.0)\n"
          ]
        }
      ],
      "source": [
        "!pip install dython"
      ]
    },
    {
      "cell_type": "code",
      "execution_count": 2,
      "metadata": {
        "id": "JgXyHL3Ec2_q"
      },
      "outputs": [],
      "source": [
        "import numpy as np\n",
        "import pandas as pd\n",
        "pd.set_option('display.float_format', '{:.2%}'.format)\n",
        "pd.set_option('display.max_columns', None)\n",
        "import matplotlib.pyplot as plt\n",
        "import seaborn as sns\n",
        "\n",
        "from statsmodels.stats.power import TTestPower, TTestIndPower, GofChisquarePower\n",
        "from statsmodels.stats.proportion import proportions_chisquare\n",
        "from statsmodels.stats.weightstats import ttest_ind\n",
        "\n",
        "import statsmodels.api as sm\n",
        "import scipy.stats as ss\n",
        "from scipy.stats import chi2_contingency\n",
        "\n",
        "from dython.nominal import associations"
      ]
    },
    {
      "cell_type": "markdown",
      "metadata": {
        "id": "8Eg8s3cldFHF"
      },
      "source": [
        "#Load Dataset"
      ]
    },
    {
      "cell_type": "code",
      "execution_count": 3,
      "metadata": {
        "id": "Tiovy8-LdGkd"
      },
      "outputs": [],
      "source": [
        "raw_data = pd.read_csv(\"https://raw.githubusercontent.com/hadimaster65555/dataset_for_teaching/main/dataset/marketing_campaign_experiment/marketing-clean.csv\")"
      ]
    },
    {
      "cell_type": "code",
      "source": [
        "def check_missing(df):\n",
        "  missing = df.isnull().sum()\n",
        "  per_mis = (missing/len(df))*100\n",
        "  data_type = df.dtypes\n",
        "  n_unique = df.nunique()\n",
        "  return pd.DataFrame({\"Missing\":missing,\n",
        "                       \"Percent_missing_%\": per_mis,\n",
        "                       \"Type\":data_type,\n",
        "                       \"Unique Value\": n_unique}).sort_values('Percent_missing_%', ascending=False)"
      ],
      "metadata": {
        "id": "sllzhw5quwRu"
      },
      "execution_count": 4,
      "outputs": []
    },
    {
      "cell_type": "markdown",
      "metadata": {
        "id": "8ijh076ih-PU"
      },
      "source": [
        "#Data Inspection"
      ]
    },
    {
      "cell_type": "code",
      "execution_count": 5,
      "metadata": {
        "colab": {
          "base_uri": "https://localhost:8080/",
          "height": 340
        },
        "id": "9rnTKrE5dSni",
        "outputId": "d2885115-9d4c-4641-8e68-cf03e8774635"
      },
      "outputs": [
        {
          "output_type": "execute_result",
          "data": {
            "text/plain": [
              "      user_id date_served marketing_channel          variant  converted  \\\n",
              "0  a100000040      1/1/18         House Ads  personalization       True   \n",
              "1  a100000041      1/1/18         House Ads  personalization       True   \n",
              "2  a100000042      1/1/18         House Ads  personalization       True   \n",
              "3  a100000043      1/1/18         House Ads  personalization       True   \n",
              "4  a100000044      1/1/18         House Ads  personalization       True   \n",
              "\n",
              "  language_displayed language_preferred    age_group date_subscribed  \\\n",
              "0            English            English  19-24 years          1/1/18   \n",
              "1             Arabic             Arabic  24-30 years          1/1/18   \n",
              "2            English            English   0-18 years          1/1/18   \n",
              "3            English            English  19-24 years          1/1/18   \n",
              "4             Arabic             Arabic  24-30 years          1/1/18   \n",
              "\n",
              "  date_canceled subscribing_channel  is_retained  conversion  \n",
              "0       1/18/18           House Ads        False           1  \n",
              "1       2/22/18           House Ads        False           1  \n",
              "2        3/9/18           House Ads        False           1  \n",
              "3       2/18/18           House Ads        False           1  \n",
              "4        3/3/18           House Ads        False           1  "
            ],
            "text/html": [
              "\n",
              "  <div id=\"df-76d3f97d-82cb-427d-9217-b86d7f64ee0c\">\n",
              "    <div class=\"colab-df-container\">\n",
              "      <div>\n",
              "<style scoped>\n",
              "    .dataframe tbody tr th:only-of-type {\n",
              "        vertical-align: middle;\n",
              "    }\n",
              "\n",
              "    .dataframe tbody tr th {\n",
              "        vertical-align: top;\n",
              "    }\n",
              "\n",
              "    .dataframe thead th {\n",
              "        text-align: right;\n",
              "    }\n",
              "</style>\n",
              "<table border=\"1\" class=\"dataframe\">\n",
              "  <thead>\n",
              "    <tr style=\"text-align: right;\">\n",
              "      <th></th>\n",
              "      <th>user_id</th>\n",
              "      <th>date_served</th>\n",
              "      <th>marketing_channel</th>\n",
              "      <th>variant</th>\n",
              "      <th>converted</th>\n",
              "      <th>language_displayed</th>\n",
              "      <th>language_preferred</th>\n",
              "      <th>age_group</th>\n",
              "      <th>date_subscribed</th>\n",
              "      <th>date_canceled</th>\n",
              "      <th>subscribing_channel</th>\n",
              "      <th>is_retained</th>\n",
              "      <th>conversion</th>\n",
              "    </tr>\n",
              "  </thead>\n",
              "  <tbody>\n",
              "    <tr>\n",
              "      <th>0</th>\n",
              "      <td>a100000040</td>\n",
              "      <td>1/1/18</td>\n",
              "      <td>House Ads</td>\n",
              "      <td>personalization</td>\n",
              "      <td>True</td>\n",
              "      <td>English</td>\n",
              "      <td>English</td>\n",
              "      <td>19-24 years</td>\n",
              "      <td>1/1/18</td>\n",
              "      <td>1/18/18</td>\n",
              "      <td>House Ads</td>\n",
              "      <td>False</td>\n",
              "      <td>1</td>\n",
              "    </tr>\n",
              "    <tr>\n",
              "      <th>1</th>\n",
              "      <td>a100000041</td>\n",
              "      <td>1/1/18</td>\n",
              "      <td>House Ads</td>\n",
              "      <td>personalization</td>\n",
              "      <td>True</td>\n",
              "      <td>Arabic</td>\n",
              "      <td>Arabic</td>\n",
              "      <td>24-30 years</td>\n",
              "      <td>1/1/18</td>\n",
              "      <td>2/22/18</td>\n",
              "      <td>House Ads</td>\n",
              "      <td>False</td>\n",
              "      <td>1</td>\n",
              "    </tr>\n",
              "    <tr>\n",
              "      <th>2</th>\n",
              "      <td>a100000042</td>\n",
              "      <td>1/1/18</td>\n",
              "      <td>House Ads</td>\n",
              "      <td>personalization</td>\n",
              "      <td>True</td>\n",
              "      <td>English</td>\n",
              "      <td>English</td>\n",
              "      <td>0-18 years</td>\n",
              "      <td>1/1/18</td>\n",
              "      <td>3/9/18</td>\n",
              "      <td>House Ads</td>\n",
              "      <td>False</td>\n",
              "      <td>1</td>\n",
              "    </tr>\n",
              "    <tr>\n",
              "      <th>3</th>\n",
              "      <td>a100000043</td>\n",
              "      <td>1/1/18</td>\n",
              "      <td>House Ads</td>\n",
              "      <td>personalization</td>\n",
              "      <td>True</td>\n",
              "      <td>English</td>\n",
              "      <td>English</td>\n",
              "      <td>19-24 years</td>\n",
              "      <td>1/1/18</td>\n",
              "      <td>2/18/18</td>\n",
              "      <td>House Ads</td>\n",
              "      <td>False</td>\n",
              "      <td>1</td>\n",
              "    </tr>\n",
              "    <tr>\n",
              "      <th>4</th>\n",
              "      <td>a100000044</td>\n",
              "      <td>1/1/18</td>\n",
              "      <td>House Ads</td>\n",
              "      <td>personalization</td>\n",
              "      <td>True</td>\n",
              "      <td>Arabic</td>\n",
              "      <td>Arabic</td>\n",
              "      <td>24-30 years</td>\n",
              "      <td>1/1/18</td>\n",
              "      <td>3/3/18</td>\n",
              "      <td>House Ads</td>\n",
              "      <td>False</td>\n",
              "      <td>1</td>\n",
              "    </tr>\n",
              "  </tbody>\n",
              "</table>\n",
              "</div>\n",
              "      <button class=\"colab-df-convert\" onclick=\"convertToInteractive('df-76d3f97d-82cb-427d-9217-b86d7f64ee0c')\"\n",
              "              title=\"Convert this dataframe to an interactive table.\"\n",
              "              style=\"display:none;\">\n",
              "        \n",
              "  <svg xmlns=\"http://www.w3.org/2000/svg\" height=\"24px\"viewBox=\"0 0 24 24\"\n",
              "       width=\"24px\">\n",
              "    <path d=\"M0 0h24v24H0V0z\" fill=\"none\"/>\n",
              "    <path d=\"M18.56 5.44l.94 2.06.94-2.06 2.06-.94-2.06-.94-.94-2.06-.94 2.06-2.06.94zm-11 1L8.5 8.5l.94-2.06 2.06-.94-2.06-.94L8.5 2.5l-.94 2.06-2.06.94zm10 10l.94 2.06.94-2.06 2.06-.94-2.06-.94-.94-2.06-.94 2.06-2.06.94z\"/><path d=\"M17.41 7.96l-1.37-1.37c-.4-.4-.92-.59-1.43-.59-.52 0-1.04.2-1.43.59L10.3 9.45l-7.72 7.72c-.78.78-.78 2.05 0 2.83L4 21.41c.39.39.9.59 1.41.59.51 0 1.02-.2 1.41-.59l7.78-7.78 2.81-2.81c.8-.78.8-2.07 0-2.86zM5.41 20L4 18.59l7.72-7.72 1.47 1.35L5.41 20z\"/>\n",
              "  </svg>\n",
              "      </button>\n",
              "      \n",
              "  <style>\n",
              "    .colab-df-container {\n",
              "      display:flex;\n",
              "      flex-wrap:wrap;\n",
              "      gap: 12px;\n",
              "    }\n",
              "\n",
              "    .colab-df-convert {\n",
              "      background-color: #E8F0FE;\n",
              "      border: none;\n",
              "      border-radius: 50%;\n",
              "      cursor: pointer;\n",
              "      display: none;\n",
              "      fill: #1967D2;\n",
              "      height: 32px;\n",
              "      padding: 0 0 0 0;\n",
              "      width: 32px;\n",
              "    }\n",
              "\n",
              "    .colab-df-convert:hover {\n",
              "      background-color: #E2EBFA;\n",
              "      box-shadow: 0px 1px 2px rgba(60, 64, 67, 0.3), 0px 1px 3px 1px rgba(60, 64, 67, 0.15);\n",
              "      fill: #174EA6;\n",
              "    }\n",
              "\n",
              "    [theme=dark] .colab-df-convert {\n",
              "      background-color: #3B4455;\n",
              "      fill: #D2E3FC;\n",
              "    }\n",
              "\n",
              "    [theme=dark] .colab-df-convert:hover {\n",
              "      background-color: #434B5C;\n",
              "      box-shadow: 0px 1px 3px 1px rgba(0, 0, 0, 0.15);\n",
              "      filter: drop-shadow(0px 1px 2px rgba(0, 0, 0, 0.3));\n",
              "      fill: #FFFFFF;\n",
              "    }\n",
              "  </style>\n",
              "\n",
              "      <script>\n",
              "        const buttonEl =\n",
              "          document.querySelector('#df-76d3f97d-82cb-427d-9217-b86d7f64ee0c button.colab-df-convert');\n",
              "        buttonEl.style.display =\n",
              "          google.colab.kernel.accessAllowed ? 'block' : 'none';\n",
              "\n",
              "        async function convertToInteractive(key) {\n",
              "          const element = document.querySelector('#df-76d3f97d-82cb-427d-9217-b86d7f64ee0c');\n",
              "          const dataTable =\n",
              "            await google.colab.kernel.invokeFunction('convertToInteractive',\n",
              "                                                     [key], {});\n",
              "          if (!dataTable) return;\n",
              "\n",
              "          const docLinkHtml = 'Like what you see? Visit the ' +\n",
              "            '<a target=\"_blank\" href=https://colab.research.google.com/notebooks/data_table.ipynb>data table notebook</a>'\n",
              "            + ' to learn more about interactive tables.';\n",
              "          element.innerHTML = '';\n",
              "          dataTable['output_type'] = 'display_data';\n",
              "          await google.colab.output.renderOutput(dataTable, element);\n",
              "          const docLink = document.createElement('div');\n",
              "          docLink.innerHTML = docLinkHtml;\n",
              "          element.appendChild(docLink);\n",
              "        }\n",
              "      </script>\n",
              "    </div>\n",
              "  </div>\n",
              "  "
            ]
          },
          "metadata": {},
          "execution_count": 5
        }
      ],
      "source": [
        "# Check 1st five rows\n",
        "raw_data.head()"
      ]
    },
    {
      "cell_type": "code",
      "execution_count": 6,
      "metadata": {
        "colab": {
          "base_uri": "https://localhost:8080/",
          "height": 457
        },
        "id": "fY51l4MTdUGA",
        "outputId": "e15b2b07-788f-4bed-a495-ff13b92f76fb"
      },
      "outputs": [
        {
          "output_type": "execute_result",
          "data": {
            "text/plain": [
              "                     Missing  Percent_missing_%    Type  Unique Value\n",
              "user_id                    0              0.00%  object           350\n",
              "date_served                0              0.00%  object            31\n",
              "marketing_channel          0              0.00%  object             5\n",
              "variant                    0              0.00%  object             2\n",
              "converted                  0              0.00%    bool             2\n",
              "language_displayed         0              0.00%  object             4\n",
              "language_preferred         0              0.00%  object             4\n",
              "age_group                  0              0.00%  object             7\n",
              "date_subscribed            0              0.00%  object            31\n",
              "date_canceled              0              0.00%  object           115\n",
              "subscribing_channel        0              0.00%  object             5\n",
              "is_retained                0              0.00%    bool             1\n",
              "conversion                 0              0.00%   int64             2"
            ],
            "text/html": [
              "\n",
              "  <div id=\"df-201dd107-bda5-4f09-821f-62949ba06a42\">\n",
              "    <div class=\"colab-df-container\">\n",
              "      <div>\n",
              "<style scoped>\n",
              "    .dataframe tbody tr th:only-of-type {\n",
              "        vertical-align: middle;\n",
              "    }\n",
              "\n",
              "    .dataframe tbody tr th {\n",
              "        vertical-align: top;\n",
              "    }\n",
              "\n",
              "    .dataframe thead th {\n",
              "        text-align: right;\n",
              "    }\n",
              "</style>\n",
              "<table border=\"1\" class=\"dataframe\">\n",
              "  <thead>\n",
              "    <tr style=\"text-align: right;\">\n",
              "      <th></th>\n",
              "      <th>Missing</th>\n",
              "      <th>Percent_missing_%</th>\n",
              "      <th>Type</th>\n",
              "      <th>Unique Value</th>\n",
              "    </tr>\n",
              "  </thead>\n",
              "  <tbody>\n",
              "    <tr>\n",
              "      <th>user_id</th>\n",
              "      <td>0</td>\n",
              "      <td>0.00%</td>\n",
              "      <td>object</td>\n",
              "      <td>350</td>\n",
              "    </tr>\n",
              "    <tr>\n",
              "      <th>date_served</th>\n",
              "      <td>0</td>\n",
              "      <td>0.00%</td>\n",
              "      <td>object</td>\n",
              "      <td>31</td>\n",
              "    </tr>\n",
              "    <tr>\n",
              "      <th>marketing_channel</th>\n",
              "      <td>0</td>\n",
              "      <td>0.00%</td>\n",
              "      <td>object</td>\n",
              "      <td>5</td>\n",
              "    </tr>\n",
              "    <tr>\n",
              "      <th>variant</th>\n",
              "      <td>0</td>\n",
              "      <td>0.00%</td>\n",
              "      <td>object</td>\n",
              "      <td>2</td>\n",
              "    </tr>\n",
              "    <tr>\n",
              "      <th>converted</th>\n",
              "      <td>0</td>\n",
              "      <td>0.00%</td>\n",
              "      <td>bool</td>\n",
              "      <td>2</td>\n",
              "    </tr>\n",
              "    <tr>\n",
              "      <th>language_displayed</th>\n",
              "      <td>0</td>\n",
              "      <td>0.00%</td>\n",
              "      <td>object</td>\n",
              "      <td>4</td>\n",
              "    </tr>\n",
              "    <tr>\n",
              "      <th>language_preferred</th>\n",
              "      <td>0</td>\n",
              "      <td>0.00%</td>\n",
              "      <td>object</td>\n",
              "      <td>4</td>\n",
              "    </tr>\n",
              "    <tr>\n",
              "      <th>age_group</th>\n",
              "      <td>0</td>\n",
              "      <td>0.00%</td>\n",
              "      <td>object</td>\n",
              "      <td>7</td>\n",
              "    </tr>\n",
              "    <tr>\n",
              "      <th>date_subscribed</th>\n",
              "      <td>0</td>\n",
              "      <td>0.00%</td>\n",
              "      <td>object</td>\n",
              "      <td>31</td>\n",
              "    </tr>\n",
              "    <tr>\n",
              "      <th>date_canceled</th>\n",
              "      <td>0</td>\n",
              "      <td>0.00%</td>\n",
              "      <td>object</td>\n",
              "      <td>115</td>\n",
              "    </tr>\n",
              "    <tr>\n",
              "      <th>subscribing_channel</th>\n",
              "      <td>0</td>\n",
              "      <td>0.00%</td>\n",
              "      <td>object</td>\n",
              "      <td>5</td>\n",
              "    </tr>\n",
              "    <tr>\n",
              "      <th>is_retained</th>\n",
              "      <td>0</td>\n",
              "      <td>0.00%</td>\n",
              "      <td>bool</td>\n",
              "      <td>1</td>\n",
              "    </tr>\n",
              "    <tr>\n",
              "      <th>conversion</th>\n",
              "      <td>0</td>\n",
              "      <td>0.00%</td>\n",
              "      <td>int64</td>\n",
              "      <td>2</td>\n",
              "    </tr>\n",
              "  </tbody>\n",
              "</table>\n",
              "</div>\n",
              "      <button class=\"colab-df-convert\" onclick=\"convertToInteractive('df-201dd107-bda5-4f09-821f-62949ba06a42')\"\n",
              "              title=\"Convert this dataframe to an interactive table.\"\n",
              "              style=\"display:none;\">\n",
              "        \n",
              "  <svg xmlns=\"http://www.w3.org/2000/svg\" height=\"24px\"viewBox=\"0 0 24 24\"\n",
              "       width=\"24px\">\n",
              "    <path d=\"M0 0h24v24H0V0z\" fill=\"none\"/>\n",
              "    <path d=\"M18.56 5.44l.94 2.06.94-2.06 2.06-.94-2.06-.94-.94-2.06-.94 2.06-2.06.94zm-11 1L8.5 8.5l.94-2.06 2.06-.94-2.06-.94L8.5 2.5l-.94 2.06-2.06.94zm10 10l.94 2.06.94-2.06 2.06-.94-2.06-.94-.94-2.06-.94 2.06-2.06.94z\"/><path d=\"M17.41 7.96l-1.37-1.37c-.4-.4-.92-.59-1.43-.59-.52 0-1.04.2-1.43.59L10.3 9.45l-7.72 7.72c-.78.78-.78 2.05 0 2.83L4 21.41c.39.39.9.59 1.41.59.51 0 1.02-.2 1.41-.59l7.78-7.78 2.81-2.81c.8-.78.8-2.07 0-2.86zM5.41 20L4 18.59l7.72-7.72 1.47 1.35L5.41 20z\"/>\n",
              "  </svg>\n",
              "      </button>\n",
              "      \n",
              "  <style>\n",
              "    .colab-df-container {\n",
              "      display:flex;\n",
              "      flex-wrap:wrap;\n",
              "      gap: 12px;\n",
              "    }\n",
              "\n",
              "    .colab-df-convert {\n",
              "      background-color: #E8F0FE;\n",
              "      border: none;\n",
              "      border-radius: 50%;\n",
              "      cursor: pointer;\n",
              "      display: none;\n",
              "      fill: #1967D2;\n",
              "      height: 32px;\n",
              "      padding: 0 0 0 0;\n",
              "      width: 32px;\n",
              "    }\n",
              "\n",
              "    .colab-df-convert:hover {\n",
              "      background-color: #E2EBFA;\n",
              "      box-shadow: 0px 1px 2px rgba(60, 64, 67, 0.3), 0px 1px 3px 1px rgba(60, 64, 67, 0.15);\n",
              "      fill: #174EA6;\n",
              "    }\n",
              "\n",
              "    [theme=dark] .colab-df-convert {\n",
              "      background-color: #3B4455;\n",
              "      fill: #D2E3FC;\n",
              "    }\n",
              "\n",
              "    [theme=dark] .colab-df-convert:hover {\n",
              "      background-color: #434B5C;\n",
              "      box-shadow: 0px 1px 3px 1px rgba(0, 0, 0, 0.15);\n",
              "      filter: drop-shadow(0px 1px 2px rgba(0, 0, 0, 0.3));\n",
              "      fill: #FFFFFF;\n",
              "    }\n",
              "  </style>\n",
              "\n",
              "      <script>\n",
              "        const buttonEl =\n",
              "          document.querySelector('#df-201dd107-bda5-4f09-821f-62949ba06a42 button.colab-df-convert');\n",
              "        buttonEl.style.display =\n",
              "          google.colab.kernel.accessAllowed ? 'block' : 'none';\n",
              "\n",
              "        async function convertToInteractive(key) {\n",
              "          const element = document.querySelector('#df-201dd107-bda5-4f09-821f-62949ba06a42');\n",
              "          const dataTable =\n",
              "            await google.colab.kernel.invokeFunction('convertToInteractive',\n",
              "                                                     [key], {});\n",
              "          if (!dataTable) return;\n",
              "\n",
              "          const docLinkHtml = 'Like what you see? Visit the ' +\n",
              "            '<a target=\"_blank\" href=https://colab.research.google.com/notebooks/data_table.ipynb>data table notebook</a>'\n",
              "            + ' to learn more about interactive tables.';\n",
              "          element.innerHTML = '';\n",
              "          dataTable['output_type'] = 'display_data';\n",
              "          await google.colab.output.renderOutput(dataTable, element);\n",
              "          const docLink = document.createElement('div');\n",
              "          docLink.innerHTML = docLinkHtml;\n",
              "          element.appendChild(docLink);\n",
              "        }\n",
              "      </script>\n",
              "    </div>\n",
              "  </div>\n",
              "  "
            ]
          },
          "metadata": {},
          "execution_count": 6
        }
      ],
      "source": [
        "#check missing value, total unique value, and data types\n",
        "check_missing(raw_data)"
      ]
    },
    {
      "cell_type": "markdown",
      "metadata": {
        "id": "oqTn0DSi8-no"
      },
      "source": [
        "**Change Date Type**"
      ]
    },
    {
      "cell_type": "code",
      "execution_count": 7,
      "metadata": {
        "id": "usUf5Gv3dX-c"
      },
      "outputs": [],
      "source": [
        "# Change data type\n",
        "raw_data['date_served'] = pd.to_datetime(raw_data['date_served'])\n",
        "raw_data['date_subscribed'] = pd.to_datetime(raw_data['date_subscribed'])\n",
        "raw_data['date_canceled'] = pd.to_datetime(raw_data['date_canceled'])"
      ]
    },
    {
      "cell_type": "markdown",
      "metadata": {
        "id": "1WmWZWIr9W-5"
      },
      "source": [
        "**Check Unique Value**"
      ]
    },
    {
      "cell_type": "code",
      "execution_count": 8,
      "metadata": {
        "colab": {
          "base_uri": "https://localhost:8080/"
        },
        "id": "Mn5IMeqle8Yc",
        "outputId": "ec11f9ee-bbe0-47c2-b84e-07b9af257892"
      },
      "outputs": [
        {
          "output_type": "stream",
          "name": "stdout",
          "text": [
            "unique of user_id \n",
            "['a100000040' 'a100000041' 'a100000042' 'a100000043' 'a100000044'\n",
            " 'a100000045' 'a100000046' 'a100000047' 'a100000048' 'a100000059'\n",
            " 'a100000060' 'a100000061' 'a100000062' 'a100000063' 'a100000064'\n",
            " 'a100000065' 'a100000066' 'a100000067' 'a100000088' 'a100000089'\n",
            " 'a100000090' 'a100000091' 'a100000092' 'a100000093' 'a100000094'\n",
            " 'a100000095' 'a100000096' 'a100000101' 'a100000102' 'a100000103'\n",
            " 'a100000104' 'a100000105' 'a100000107' 'a100000108' 'a100000109'\n",
            " 'a100000110' 'a100000164' 'a100000165' 'a100000166' 'a100000167'\n",
            " 'a100000168' 'a100000169' 'a100000170' 'a100000171' 'a100000172'\n",
            " 'a100000260' 'a100000261' 'a100000262' 'a100000263' 'a100000264'\n",
            " 'a100000265' 'a100000266' 'a100000267' 'a100000268' 'a100000294'\n",
            " 'a100000295' 'a100000296' 'a100000297' 'a100000298' 'a100000299'\n",
            " 'a100000300' 'a100000301' 'a100000302' 'a100000317' 'a100000318'\n",
            " 'a100000319' 'a100000320' 'a100000321' 'a100000322' 'a100000323'\n",
            " 'a100000324' 'a100000325' 'a100000337' 'a100000338' 'a100000339'\n",
            " 'a100000340' 'a100000341' 'a100000342' 'a100000343' 'a100000344'\n",
            " 'a100000345' 'a100000349' 'a100000350' 'a100000351' 'a100000352'\n",
            " 'a100000353' 'a100000354' 'a100000355' 'a100000356' 'a100000357'\n",
            " 'a100000360' 'a100000361' 'a100000362' 'a100000363' 'a100000364'\n",
            " 'a100000365' 'a100000366' 'a100000367' 'a100000368' 'a100000378'\n",
            " 'a100000379' 'a100000380' 'a100000381' 'a100000382' 'a100000383'\n",
            " 'a100000384' 'a100000385' 'a100000386' 'a100000387' 'a100000388'\n",
            " 'a100000389' 'a100000390' 'a100000391' 'a100000392' 'a100000393'\n",
            " 'a100000394' 'a100000398' 'a100000399' 'a100000400' 'a100000401'\n",
            " 'a100000402' 'a100000403' 'a100000404' 'a100000405' 'a100000406'\n",
            " 'a100000536' 'a100000537' 'a100000538' 'a100000539' 'a100000540'\n",
            " 'a100000541' 'a100000542' 'a100000543' 'a100000544' 'a100000555'\n",
            " 'a100000556' 'a100000557' 'a100000558' 'a100000559' 'a100000560'\n",
            " 'a100000561' 'a100000562' 'a100000563' 'a100000571' 'a100000572'\n",
            " 'a100000573' 'a100000574' 'a100000575' 'a100000576' 'a100000577'\n",
            " 'a100000578' 'a100000579' 'a100000596' 'a100000597' 'a100000598'\n",
            " 'a100000599' 'a100000600' 'a100000601' 'a100000602' 'a100000603'\n",
            " 'a100000604' 'a100000634' 'a100000635' 'a100000636' 'a100000637'\n",
            " 'a100000638' 'a100000639' 'a100000640' 'a100000641' 'a100000642'\n",
            " 'a100000691' 'a100000692' 'a100000693' 'a100000694' 'a100000695'\n",
            " 'a100000696' 'a100000697' 'a100000698' 'a100000718' 'a100000734'\n",
            " 'a100000735' 'a100000736' 'a100000737' 'a100000738' 'a100000739'\n",
            " 'a100000753' 'a100000754' 'a100000755' 'a100000763' 'a100000764'\n",
            " 'a100000765' 'a100000766' 'a100000767' 'a100000768' 'a100000769'\n",
            " 'a100000770' 'a100000771' 'a100000801' 'a100000802' 'a100000803'\n",
            " 'a100000804' 'a100000805' 'a100000806' 'a100000807' 'a100000808'\n",
            " 'a100000809' 'a100000826' 'a100000827' 'a100000828' 'a100000829'\n",
            " 'a100000830' 'a100000831' 'a100000832' 'a100000833' 'a100000855'\n",
            " 'a100000867' 'a100000868' 'a100000869' 'a100000870' 'a100000871'\n",
            " 'a100000872' 'a100000873' 'a100000874' 'a100000875' 'a100000888'\n",
            " 'a100000889' 'a100000890' 'a100000891' 'a100000892' 'a100000893'\n",
            " 'a100000894' 'a100000895' 'a100000896' 'a100000992' 'a100000993'\n",
            " 'a100000994' 'a100000995' 'a100000996' 'a100000997' 'a100000998'\n",
            " 'a100000999' 'a100001044' 'a100001090' 'a100001091' 'a100001092'\n",
            " 'a100001093' 'a100001094' 'a100001095' 'a100001096' 'a100001097'\n",
            " 'a100001098' 'a100001154' 'a100001155' 'a100001156' 'a100001157'\n",
            " 'a100001158' 'a100001159' 'a100001160' 'a100001161' 'a100001162'\n",
            " 'a100001166' 'a100001167' 'a100001168' 'a100001169' 'a100001170'\n",
            " 'a100001171' 'a100001172' 'a100001173' 'a100001174' 'a100001180'\n",
            " 'a100001181' 'a100001182' 'a100001183' 'a100001184' 'a100001185'\n",
            " 'a100001186' 'a100001187' 'a100001188' 'a100001198' 'a100001199'\n",
            " 'a100001200' 'a100001201' 'a100001202' 'a100001203' 'a100001204'\n",
            " 'a100001205' 'a100001206' 'a100001223' 'a100001224' 'a100001225'\n",
            " 'a100001226' 'a100001227' 'a100001228' 'a100001229' 'a100001230'\n",
            " 'a100001231' 'a100001290' 'a100001291' 'a100001292' 'a100001293'\n",
            " 'a100001294' 'a100001295' 'a100001296' 'a100001297' 'a100001298'\n",
            " 'a100001304' 'a100001305' 'a100001306' 'a100001307' 'a100001308'\n",
            " 'a100001309' 'a100001310' 'a100001311' 'a100001312' 'a100001342'\n",
            " 'a100001343' 'a100001344' 'a100001345' 'a100001346' 'a100001347'\n",
            " 'a100001348' 'a100001349' 'a100001350' 'a100001357' 'a100001358'\n",
            " 'a100001359' 'a100001360' 'a100001361' 'a100001362' 'a100001363'\n",
            " 'a100001364' 'a100001365' 'a100001373' 'a100001374' 'a100001375'\n",
            " 'a100001376' 'a100001377' 'a100001378' 'a100001379' 'a100001380'\n",
            " 'a100001381' 'a100007282' 'a100007283' 'a100007284' 'a100007285'\n",
            " 'a100007286' 'a100007287' 'a100007288' 'a100007289' 'a100007290']\n",
            "\n",
            "unique of date_served \n",
            "['2018-01-01T00:00:00.000000000' '2018-01-02T00:00:00.000000000'\n",
            " '2018-01-03T00:00:00.000000000' '2018-01-04T00:00:00.000000000'\n",
            " '2018-01-05T00:00:00.000000000' '2018-01-06T00:00:00.000000000'\n",
            " '2018-01-07T00:00:00.000000000' '2018-01-08T00:00:00.000000000'\n",
            " '2018-01-09T00:00:00.000000000' '2018-01-10T00:00:00.000000000'\n",
            " '2018-01-11T00:00:00.000000000' '2018-01-12T00:00:00.000000000'\n",
            " '2018-01-13T00:00:00.000000000' '2018-01-14T00:00:00.000000000'\n",
            " '2018-01-15T00:00:00.000000000' '2018-01-16T00:00:00.000000000'\n",
            " '2018-01-17T00:00:00.000000000' '2018-01-18T00:00:00.000000000'\n",
            " '2018-01-30T00:00:00.000000000' '2018-01-31T00:00:00.000000000'\n",
            " '2018-01-21T00:00:00.000000000' '2018-01-22T00:00:00.000000000'\n",
            " '2018-01-23T00:00:00.000000000' '2018-01-24T00:00:00.000000000'\n",
            " '2018-01-25T00:00:00.000000000' '2018-01-26T00:00:00.000000000'\n",
            " '2018-01-27T00:00:00.000000000' '2018-01-28T00:00:00.000000000'\n",
            " '2018-01-29T00:00:00.000000000' '2018-01-19T00:00:00.000000000'\n",
            " '2018-01-20T00:00:00.000000000']\n",
            "\n",
            "unique of marketing_channel \n",
            "['House Ads' 'Facebook' 'Push' 'Instagram' 'Email']\n",
            "\n",
            "unique of variant \n",
            "['personalization' 'control']\n",
            "\n",
            "unique of converted \n",
            "[ True False]\n",
            "\n",
            "unique of language_displayed \n",
            "['English' 'Arabic' 'German' 'Spanish']\n",
            "\n",
            "unique of language_preferred \n",
            "['English' 'Arabic' 'German' 'Spanish']\n",
            "\n",
            "unique of age_group \n",
            "['19-24 years' '24-30 years' '0-18 years' '45-55 years' '55+ years'\n",
            " '30-36 years' '36-45 years']\n",
            "\n",
            "unique of date_subscribed \n",
            "['2018-01-01T00:00:00.000000000' '2018-01-02T00:00:00.000000000'\n",
            " '2018-01-03T00:00:00.000000000' '2018-01-04T00:00:00.000000000'\n",
            " '2018-01-05T00:00:00.000000000' '2018-01-06T00:00:00.000000000'\n",
            " '2018-01-07T00:00:00.000000000' '2018-01-08T00:00:00.000000000'\n",
            " '2018-01-09T00:00:00.000000000' '2018-01-10T00:00:00.000000000'\n",
            " '2018-01-11T00:00:00.000000000' '2018-01-12T00:00:00.000000000'\n",
            " '2018-01-13T00:00:00.000000000' '2018-01-14T00:00:00.000000000'\n",
            " '2018-01-15T00:00:00.000000000' '2018-01-16T00:00:00.000000000'\n",
            " '2018-01-17T00:00:00.000000000' '2018-01-18T00:00:00.000000000'\n",
            " '2018-01-30T00:00:00.000000000' '2018-01-31T00:00:00.000000000'\n",
            " '2018-01-21T00:00:00.000000000' '2018-01-22T00:00:00.000000000'\n",
            " '2018-01-23T00:00:00.000000000' '2018-01-24T00:00:00.000000000'\n",
            " '2018-01-25T00:00:00.000000000' '2018-01-26T00:00:00.000000000'\n",
            " '2018-01-27T00:00:00.000000000' '2018-01-28T00:00:00.000000000'\n",
            " '2018-01-29T00:00:00.000000000' '2018-01-19T00:00:00.000000000'\n",
            " '2018-01-20T00:00:00.000000000']\n",
            "\n",
            "unique of date_canceled \n",
            "['2018-01-18T00:00:00.000000000' '2018-02-22T00:00:00.000000000'\n",
            " '2018-03-09T00:00:00.000000000' '2018-02-18T00:00:00.000000000'\n",
            " '2018-03-03T00:00:00.000000000' '2018-02-04T00:00:00.000000000'\n",
            " '2018-01-09T00:00:00.000000000' '2018-01-21T00:00:00.000000000'\n",
            " '2018-02-19T00:00:00.000000000' '2018-03-08T00:00:00.000000000'\n",
            " '2018-02-05T00:00:00.000000000' '2018-01-11T00:00:00.000000000'\n",
            " '2018-01-06T00:00:00.000000000' '2018-03-01T00:00:00.000000000'\n",
            " '2018-04-02T00:00:00.000000000' '2018-03-02T00:00:00.000000000'\n",
            " '2018-01-05T00:00:00.000000000' '2018-02-09T00:00:00.000000000'\n",
            " '2018-03-25T00:00:00.000000000' '2018-03-12T00:00:00.000000000'\n",
            " '2018-03-10T00:00:00.000000000' '2018-02-14T00:00:00.000000000'\n",
            " '2018-01-23T00:00:00.000000000' '2018-02-11T00:00:00.000000000'\n",
            " '2018-04-13T00:00:00.000000000' '2018-04-12T00:00:00.000000000'\n",
            " '2018-04-03T00:00:00.000000000' '2018-02-17T00:00:00.000000000'\n",
            " '2018-04-14T00:00:00.000000000' '2018-02-03T00:00:00.000000000'\n",
            " '2018-01-08T00:00:00.000000000' '2018-01-27T00:00:00.000000000'\n",
            " '2018-03-11T00:00:00.000000000' '2018-02-21T00:00:00.000000000'\n",
            " '2018-02-25T00:00:00.000000000' '2018-03-05T00:00:00.000000000'\n",
            " '2018-04-16T00:00:00.000000000' '2018-02-06T00:00:00.000000000'\n",
            " '2018-01-14T00:00:00.000000000' '2018-03-13T00:00:00.000000000'\n",
            " '2018-03-19T00:00:00.000000000' '2018-02-10T00:00:00.000000000'\n",
            " '2018-03-30T00:00:00.000000000' '2018-01-15T00:00:00.000000000'\n",
            " '2018-03-07T00:00:00.000000000' '2018-04-10T00:00:00.000000000'\n",
            " '2018-03-26T00:00:00.000000000' '2018-04-19T00:00:00.000000000'\n",
            " '2018-03-04T00:00:00.000000000' '2018-01-26T00:00:00.000000000'\n",
            " '2018-04-05T00:00:00.000000000' '2018-03-15T00:00:00.000000000'\n",
            " '2018-04-22T00:00:00.000000000' '2018-04-29T00:00:00.000000000'\n",
            " '2018-04-17T00:00:00.000000000' '2018-02-08T00:00:00.000000000'\n",
            " '2018-01-25T00:00:00.000000000' '2018-03-27T00:00:00.000000000'\n",
            " '2018-02-20T00:00:00.000000000' '2018-02-24T00:00:00.000000000'\n",
            " '2018-02-12T00:00:00.000000000' '2018-03-17T00:00:00.000000000'\n",
            " '2018-03-29T00:00:00.000000000' '2018-02-16T00:00:00.000000000'\n",
            " '2018-04-06T00:00:00.000000000' '2018-04-09T00:00:00.000000000'\n",
            " '2018-03-23T00:00:00.000000000' '2018-05-09T00:00:00.000000000'\n",
            " '2018-03-20T00:00:00.000000000' '2018-01-28T00:00:00.000000000'\n",
            " '2018-03-22T00:00:00.000000000' '2018-02-01T00:00:00.000000000'\n",
            " '2018-03-31T00:00:00.000000000' '2018-01-31T00:00:00.000000000'\n",
            " '2018-03-28T00:00:00.000000000' '2018-04-08T00:00:00.000000000'\n",
            " '2018-01-24T00:00:00.000000000' '2018-01-22T00:00:00.000000000'\n",
            " '2018-02-28T00:00:00.000000000' '2018-04-27T00:00:00.000000000'\n",
            " '2018-01-29T00:00:00.000000000' '2018-05-02T00:00:00.000000000'\n",
            " '2018-04-07T00:00:00.000000000' '2018-02-15T00:00:00.000000000'\n",
            " '2018-01-10T00:00:00.000000000' '2018-02-26T00:00:00.000000000'\n",
            " '2018-01-19T00:00:00.000000000' '2018-02-23T00:00:00.000000000'\n",
            " '2018-04-21T00:00:00.000000000' '2018-02-13T00:00:00.000000000'\n",
            " '2018-01-30T00:00:00.000000000' '2018-02-07T00:00:00.000000000'\n",
            " '2018-04-04T00:00:00.000000000' '2018-04-26T00:00:00.000000000'\n",
            " '2018-01-16T00:00:00.000000000' '2018-04-01T00:00:00.000000000'\n",
            " '2018-05-04T00:00:00.000000000' '2018-04-28T00:00:00.000000000'\n",
            " '2018-03-06T00:00:00.000000000' '2018-03-24T00:00:00.000000000'\n",
            " '2018-01-07T00:00:00.000000000' '2018-01-12T00:00:00.000000000'\n",
            " '2018-03-18T00:00:00.000000000' '2018-01-13T00:00:00.000000000'\n",
            " '2018-01-20T00:00:00.000000000' '2018-03-16T00:00:00.000000000'\n",
            " '2018-04-11T00:00:00.000000000' '2018-01-17T00:00:00.000000000'\n",
            " '2018-04-20T00:00:00.000000000' '2018-05-01T00:00:00.000000000'\n",
            " '2018-04-23T00:00:00.000000000' '2018-02-02T00:00:00.000000000'\n",
            " '2018-04-25T00:00:00.000000000' '2018-04-30T00:00:00.000000000'\n",
            " '2018-05-07T00:00:00.000000000']\n",
            "\n",
            "unique of subscribing_channel \n",
            "['House Ads' 'Facebook' 'Instagram' 'Email' 'Push']\n",
            "\n",
            "unique of is_retained \n",
            "[False]\n",
            "\n",
            "unique of conversion \n",
            "[1 0]\n",
            "\n"
          ]
        }
      ],
      "source": [
        "# Check unique value\n",
        "for x in raw_data.columns:\n",
        "  print(f\"unique of {x} \")\n",
        "  print(f\"{raw_data[x].unique()}\")\n",
        "  print()"
      ]
    },
    {
      "cell_type": "markdown",
      "metadata": {
        "id": "ZR3Cx2QtNhGh"
      },
      "source": [
        "From the information above we know that the campaign was only held for 1 month which is in December 2017 - January 2018, and mostly the customers subscribed on the same month. Then, all customers churn which we can see from `is_retained` feature that has only 1 value, False."
      ]
    },
    {
      "cell_type": "code",
      "execution_count": 9,
      "metadata": {
        "colab": {
          "base_uri": "https://localhost:8080/"
        },
        "id": "IOOSKwl4feqW",
        "outputId": "251dc1d1-7b82-4ebe-8e13-d3a537c7827e"
      },
      "outputs": [
        {
          "output_type": "execute_result",
          "data": {
            "text/plain": [
              "2"
            ]
          },
          "metadata": {},
          "execution_count": 9
        }
      ],
      "source": [
        "#Check data duplicated\n",
        "raw_data.duplicated().sum()"
      ]
    },
    {
      "cell_type": "code",
      "execution_count": 10,
      "metadata": {
        "colab": {
          "base_uri": "https://localhost:8080/",
          "height": 308
        },
        "id": "Wh_ih_WJhyOb",
        "outputId": "ff7c1646-af19-461a-8560-1ee2fbd75b0f"
      },
      "outputs": [
        {
          "output_type": "execute_result",
          "data": {
            "text/plain": [
              "        user_id date_served marketing_channel  variant  converted  \\\n",
              "309  a100000889  2018-01-03         House Ads  control      False   \n",
              "311  a100000889  2018-01-03         House Ads  control      False   \n",
              "334  a100000894  2018-01-03         House Ads  control      False   \n",
              "336  a100000894  2018-01-03         House Ads  control      False   \n",
              "\n",
              "    language_displayed language_preferred    age_group date_subscribed  \\\n",
              "309            English            English  45-55 years      2018-01-03   \n",
              "311            English            English  45-55 years      2018-01-03   \n",
              "334            English            English  30-36 years      2018-01-08   \n",
              "336            English            English  30-36 years      2018-01-08   \n",
              "\n",
              "    date_canceled subscribing_channel  is_retained  conversion  \n",
              "309    2018-03-24               Email        False           0  \n",
              "311    2018-03-24               Email        False           0  \n",
              "334    2018-04-02           Instagram        False           0  \n",
              "336    2018-04-02           Instagram        False           0  "
            ],
            "text/html": [
              "\n",
              "  <div id=\"df-6a8e505d-e88c-4351-a67e-14dffc25f202\">\n",
              "    <div class=\"colab-df-container\">\n",
              "      <div>\n",
              "<style scoped>\n",
              "    .dataframe tbody tr th:only-of-type {\n",
              "        vertical-align: middle;\n",
              "    }\n",
              "\n",
              "    .dataframe tbody tr th {\n",
              "        vertical-align: top;\n",
              "    }\n",
              "\n",
              "    .dataframe thead th {\n",
              "        text-align: right;\n",
              "    }\n",
              "</style>\n",
              "<table border=\"1\" class=\"dataframe\">\n",
              "  <thead>\n",
              "    <tr style=\"text-align: right;\">\n",
              "      <th></th>\n",
              "      <th>user_id</th>\n",
              "      <th>date_served</th>\n",
              "      <th>marketing_channel</th>\n",
              "      <th>variant</th>\n",
              "      <th>converted</th>\n",
              "      <th>language_displayed</th>\n",
              "      <th>language_preferred</th>\n",
              "      <th>age_group</th>\n",
              "      <th>date_subscribed</th>\n",
              "      <th>date_canceled</th>\n",
              "      <th>subscribing_channel</th>\n",
              "      <th>is_retained</th>\n",
              "      <th>conversion</th>\n",
              "    </tr>\n",
              "  </thead>\n",
              "  <tbody>\n",
              "    <tr>\n",
              "      <th>309</th>\n",
              "      <td>a100000889</td>\n",
              "      <td>2018-01-03</td>\n",
              "      <td>House Ads</td>\n",
              "      <td>control</td>\n",
              "      <td>False</td>\n",
              "      <td>English</td>\n",
              "      <td>English</td>\n",
              "      <td>45-55 years</td>\n",
              "      <td>2018-01-03</td>\n",
              "      <td>2018-03-24</td>\n",
              "      <td>Email</td>\n",
              "      <td>False</td>\n",
              "      <td>0</td>\n",
              "    </tr>\n",
              "    <tr>\n",
              "      <th>311</th>\n",
              "      <td>a100000889</td>\n",
              "      <td>2018-01-03</td>\n",
              "      <td>House Ads</td>\n",
              "      <td>control</td>\n",
              "      <td>False</td>\n",
              "      <td>English</td>\n",
              "      <td>English</td>\n",
              "      <td>45-55 years</td>\n",
              "      <td>2018-01-03</td>\n",
              "      <td>2018-03-24</td>\n",
              "      <td>Email</td>\n",
              "      <td>False</td>\n",
              "      <td>0</td>\n",
              "    </tr>\n",
              "    <tr>\n",
              "      <th>334</th>\n",
              "      <td>a100000894</td>\n",
              "      <td>2018-01-03</td>\n",
              "      <td>House Ads</td>\n",
              "      <td>control</td>\n",
              "      <td>False</td>\n",
              "      <td>English</td>\n",
              "      <td>English</td>\n",
              "      <td>30-36 years</td>\n",
              "      <td>2018-01-08</td>\n",
              "      <td>2018-04-02</td>\n",
              "      <td>Instagram</td>\n",
              "      <td>False</td>\n",
              "      <td>0</td>\n",
              "    </tr>\n",
              "    <tr>\n",
              "      <th>336</th>\n",
              "      <td>a100000894</td>\n",
              "      <td>2018-01-03</td>\n",
              "      <td>House Ads</td>\n",
              "      <td>control</td>\n",
              "      <td>False</td>\n",
              "      <td>English</td>\n",
              "      <td>English</td>\n",
              "      <td>30-36 years</td>\n",
              "      <td>2018-01-08</td>\n",
              "      <td>2018-04-02</td>\n",
              "      <td>Instagram</td>\n",
              "      <td>False</td>\n",
              "      <td>0</td>\n",
              "    </tr>\n",
              "  </tbody>\n",
              "</table>\n",
              "</div>\n",
              "      <button class=\"colab-df-convert\" onclick=\"convertToInteractive('df-6a8e505d-e88c-4351-a67e-14dffc25f202')\"\n",
              "              title=\"Convert this dataframe to an interactive table.\"\n",
              "              style=\"display:none;\">\n",
              "        \n",
              "  <svg xmlns=\"http://www.w3.org/2000/svg\" height=\"24px\"viewBox=\"0 0 24 24\"\n",
              "       width=\"24px\">\n",
              "    <path d=\"M0 0h24v24H0V0z\" fill=\"none\"/>\n",
              "    <path d=\"M18.56 5.44l.94 2.06.94-2.06 2.06-.94-2.06-.94-.94-2.06-.94 2.06-2.06.94zm-11 1L8.5 8.5l.94-2.06 2.06-.94-2.06-.94L8.5 2.5l-.94 2.06-2.06.94zm10 10l.94 2.06.94-2.06 2.06-.94-2.06-.94-.94-2.06-.94 2.06-2.06.94z\"/><path d=\"M17.41 7.96l-1.37-1.37c-.4-.4-.92-.59-1.43-.59-.52 0-1.04.2-1.43.59L10.3 9.45l-7.72 7.72c-.78.78-.78 2.05 0 2.83L4 21.41c.39.39.9.59 1.41.59.51 0 1.02-.2 1.41-.59l7.78-7.78 2.81-2.81c.8-.78.8-2.07 0-2.86zM5.41 20L4 18.59l7.72-7.72 1.47 1.35L5.41 20z\"/>\n",
              "  </svg>\n",
              "      </button>\n",
              "      \n",
              "  <style>\n",
              "    .colab-df-container {\n",
              "      display:flex;\n",
              "      flex-wrap:wrap;\n",
              "      gap: 12px;\n",
              "    }\n",
              "\n",
              "    .colab-df-convert {\n",
              "      background-color: #E8F0FE;\n",
              "      border: none;\n",
              "      border-radius: 50%;\n",
              "      cursor: pointer;\n",
              "      display: none;\n",
              "      fill: #1967D2;\n",
              "      height: 32px;\n",
              "      padding: 0 0 0 0;\n",
              "      width: 32px;\n",
              "    }\n",
              "\n",
              "    .colab-df-convert:hover {\n",
              "      background-color: #E2EBFA;\n",
              "      box-shadow: 0px 1px 2px rgba(60, 64, 67, 0.3), 0px 1px 3px 1px rgba(60, 64, 67, 0.15);\n",
              "      fill: #174EA6;\n",
              "    }\n",
              "\n",
              "    [theme=dark] .colab-df-convert {\n",
              "      background-color: #3B4455;\n",
              "      fill: #D2E3FC;\n",
              "    }\n",
              "\n",
              "    [theme=dark] .colab-df-convert:hover {\n",
              "      background-color: #434B5C;\n",
              "      box-shadow: 0px 1px 3px 1px rgba(0, 0, 0, 0.15);\n",
              "      filter: drop-shadow(0px 1px 2px rgba(0, 0, 0, 0.3));\n",
              "      fill: #FFFFFF;\n",
              "    }\n",
              "  </style>\n",
              "\n",
              "      <script>\n",
              "        const buttonEl =\n",
              "          document.querySelector('#df-6a8e505d-e88c-4351-a67e-14dffc25f202 button.colab-df-convert');\n",
              "        buttonEl.style.display =\n",
              "          google.colab.kernel.accessAllowed ? 'block' : 'none';\n",
              "\n",
              "        async function convertToInteractive(key) {\n",
              "          const element = document.querySelector('#df-6a8e505d-e88c-4351-a67e-14dffc25f202');\n",
              "          const dataTable =\n",
              "            await google.colab.kernel.invokeFunction('convertToInteractive',\n",
              "                                                     [key], {});\n",
              "          if (!dataTable) return;\n",
              "\n",
              "          const docLinkHtml = 'Like what you see? Visit the ' +\n",
              "            '<a target=\"_blank\" href=https://colab.research.google.com/notebooks/data_table.ipynb>data table notebook</a>'\n",
              "            + ' to learn more about interactive tables.';\n",
              "          element.innerHTML = '';\n",
              "          dataTable['output_type'] = 'display_data';\n",
              "          await google.colab.output.renderOutput(dataTable, element);\n",
              "          const docLink = document.createElement('div');\n",
              "          docLink.innerHTML = docLinkHtml;\n",
              "          element.appendChild(docLink);\n",
              "        }\n",
              "      </script>\n",
              "    </div>\n",
              "  </div>\n",
              "  "
            ]
          },
          "metadata": {},
          "execution_count": 10
        }
      ],
      "source": [
        "raw_data[raw_data.duplicated(keep=False)]"
      ]
    },
    {
      "cell_type": "code",
      "execution_count": 11,
      "metadata": {
        "id": "vcITOricigIV"
      },
      "outputs": [],
      "source": [
        "#Drop duplicates\n",
        "raw_data.drop_duplicates(inplace=True, ignore_index=True)"
      ]
    },
    {
      "cell_type": "markdown",
      "metadata": {
        "id": "db9m6ntp51ey"
      },
      "source": [
        "#Data Exploration"
      ]
    },
    {
      "cell_type": "code",
      "source": [
        "colors = [\"#1DB954\", \"#14863c\", \"#0c341c\", \"#0c5d2b\"]\n",
        "customPalette = sns.set_palette(sns.color_palette(colors))"
      ],
      "metadata": {
        "id": "8lA9ebTeFxdX"
      },
      "execution_count": 12,
      "outputs": []
    },
    {
      "cell_type": "code",
      "execution_count": 13,
      "metadata": {
        "id": "6XKJlThYMwiH"
      },
      "outputs": [],
      "source": [
        "#Define function for visualization\n",
        "def prop(x,y):\n",
        "  cross_tab_prop = pd.crosstab(index=raw_data[x],\n",
        "                             columns=raw_data[y],\n",
        "                             normalize=\"index\")\n",
        "  cross_tab = pd.crosstab(index=raw_data[x],\n",
        "                        columns=raw_data[y])\n",
        "  cross_tab_prop.plot(kind='bar', \n",
        "                        stacked=True, \n",
        "                        colormap=\"Accent\", \n",
        "                        figsize=(10, 6))\n",
        "  plt.legend(loc=\"lower left\", ncol=2)\n",
        "  plt.xlabel(f\"{x}\")\n",
        "  plt.xticks(rotation = 30)\n",
        "  plt.ylabel(\"Proportion\")\n",
        "  for n, x in enumerate([*cross_tab.index.values]):\n",
        "    for (proportion, count, y_loc) in zip(cross_tab_prop.loc[x],\n",
        "                                          cross_tab.loc[x],\n",
        "                                          cross_tab_prop.loc[x].cumsum()):\n",
        "      plt.text(x=n - 0.17,\n",
        "               y=(y_loc - proportion) + (proportion / 2),\n",
        "               s=f'{count}\\n({np.round(proportion * 100, 1)}%)', \n",
        "               color=\"black\",\n",
        "               fontsize=12,\n",
        "               fontweight=\"bold\")\n",
        "  plt.show()\n",
        "  \n",
        "def countplot(x):\n",
        "  plt.figure(figsize=(10,6))\n",
        "  ax = sns.countplot(data=raw_data, x=x)\n",
        "  ax.bar_label(ax.containers[0], label_type='edge')\n",
        "  ax.set(title=f'Total User per {x}')\n",
        "  plt.xticks(rotation=30)\n",
        "  plt.ylabel('Count')\n",
        "  plt.show()\n",
        "\n",
        "def percent(x):\n",
        "  p1 = (raw_data[x].value_counts(normalize=True)*100).plot(kind='bar',\n",
        "                                                           color=colors,\n",
        "                                                           figsize=(10, 6),\n",
        "                                                           rot=30, \n",
        "                                                           ylabel='Percentage',\n",
        "                                                           title=f'Percentage of User per {x}')\n",
        "\n",
        "  for p in p1.containers:\n",
        "    p1.bar_label(p, fmt='%.2f', label_type='edge')"
      ]
    },
    {
      "cell_type": "markdown",
      "metadata": {
        "id": "rb5gVxkqv1eV"
      },
      "source": [
        "##Total User per Marketing Channel"
      ]
    },
    {
      "cell_type": "code",
      "source": [
        "countplot('marketing_channel')"
      ],
      "metadata": {
        "colab": {
          "base_uri": "https://localhost:8080/",
          "height": 0
        },
        "id": "INot_UA3Ec6J",
        "outputId": "47a0b531-463a-45e9-eef7-3146508e7cbd"
      },
      "execution_count": 14,
      "outputs": [
        {
          "output_type": "display_data",
          "data": {
            "text/plain": [
              "<Figure size 720x432 with 1 Axes>"
            ],
            "image/png": "[encoded data removed]"
          },
          "metadata": {
            "needs_background": "light"
          }
        }
      ]
    },
    {
      "cell_type": "code",
      "source": [
        "percent(\"marketing_channel\")"
      ],
      "metadata": {
        "colab": {
          "base_uri": "https://localhost:8080/",
          "height": 0
        },
        "id": "CJZlWTYHHnFo",
        "outputId": "228eadec-f53b-443b-863a-29e684dce609"
      },
      "execution_count": 15,
      "outputs": [
        {
          "output_type": "display_data",
          "data": {
            "text/plain": [
              "<Figure size 720x432 with 1 Axes>"
            ],
            "image/png": "[encoded data removed]"
          },
          "metadata": {
            "needs_background": "light"
          }
        }
      ]
    },
    {
      "cell_type": "markdown",
      "metadata": {
        "id": "GSAtccycntX0"
      },
      "source": [
        "House Ads is the most used marketing channel with **44.71%** (256 customers). Followed by Instagram with **20.97%** (121 customers). Then, Facebook with **18.2%** (105 customers). The last two are Email and Push Notification with **9.19%** (53 customers) and **6.93%** (40 customers). "
      ]
    },
    {
      "cell_type": "markdown",
      "metadata": {
        "id": "HUflU8e2wFY1"
      },
      "source": [
        "##Total User per Variant"
      ]
    },
    {
      "cell_type": "code",
      "execution_count": 16,
      "metadata": {
        "colab": {
          "base_uri": "https://localhost:8080/",
          "height": 0
        },
        "id": "3ELEUyUhv-_3",
        "outputId": "ede384a4-3ce9-4576-867d-ae0c87fea447"
      },
      "outputs": [
        {
          "output_type": "display_data",
          "data": {
            "text/plain": [
              "<Figure size 720x432 with 1 Axes>"
            ],
            "image/png": "[encoded data removed]"
          },
          "metadata": {
            "needs_background": "light"
          }
        }
      ],
      "source": [
        "countplot(\"variant\")"
      ]
    },
    {
      "cell_type": "code",
      "execution_count": 17,
      "metadata": {
        "colab": {
          "base_uri": "https://localhost:8080/",
          "height": 0
        },
        "id": "waLg5sdxwQfC",
        "outputId": "657af407-8acf-493f-b355-bc04f0383c88"
      },
      "outputs": [
        {
          "output_type": "display_data",
          "data": {
            "text/plain": [
              "<Figure size 720x432 with 1 Axes>"
            ],
            "image/png": "[encoded data removed]"
          },
          "metadata": {
            "needs_background": "light"
          }
        }
      ],
      "source": [
        "percent(\"variant\")"
      ]
    },
    {
      "cell_type": "markdown",
      "metadata": {
        "id": "KY4UaQEBshoJ"
      },
      "source": [
        "From the visualization we know that the data has difference around 7% (45 users) between variant and control group. But it's not too significant so we can accept that."
      ]
    },
    {
      "cell_type": "markdown",
      "metadata": {
        "id": "OcHSnwf2wVbp"
      },
      "source": [
        "## Total User Converted per Variant##"
      ]
    },
    {
      "cell_type": "code",
      "source": [
        "prop('variant','converted')"
      ],
      "metadata": {
        "colab": {
          "base_uri": "https://localhost:8080/",
          "height": 0
        },
        "id": "vjWlmPXpUwaH",
        "outputId": "a9d50106-3fc3-470f-fc48-863930545e1b"
      },
      "execution_count": 18,
      "outputs": [
        {
          "output_type": "display_data",
          "data": {
            "text/plain": [
              "<Figure size 720x432 with 1 Axes>"
            ],
            "image/png": "[encoded data removed]"
          },
          "metadata": {
            "needs_background": "light"
          }
        }
      ]
    },
    {
      "cell_type": "markdown",
      "metadata": {
        "id": "iJrIvhaM8i8e"
      },
      "source": [
        "The conversion rate between control and personalization from the plot above seems significant. The conversion rate for personalization group almost **76.5%** (237 users) from its population and control group only **41.9%** (112 users) from its population. From this plot, we also know that the treatment is seemed having an impact on conversion."
      ]
    },
    {
      "cell_type": "markdown",
      "metadata": {
        "id": "v6uxTQkUw_Wq"
      },
      "source": [
        "##Total User Converted per Variant from Time to Time"
      ]
    },
    {
      "cell_type": "code",
      "execution_count": 19,
      "metadata": {
        "colab": {
          "base_uri": "https://localhost:8080/",
          "height": 0
        },
        "id": "fWdZ9N4u4nBY",
        "outputId": "ee731417-3a0c-4734-cb7e-2aa474404443"
      },
      "outputs": [
        {
          "output_type": "execute_result",
          "data": {
            "text/plain": [
              "      user_id date_served marketing_channel          variant  converted  \\\n",
              "0  a100000040  2018-01-01         House Ads  personalization       True   \n",
              "1  a100000041  2018-01-01         House Ads  personalization       True   \n",
              "2  a100000042  2018-01-01         House Ads  personalization       True   \n",
              "3  a100000043  2018-01-01         House Ads  personalization       True   \n",
              "4  a100000044  2018-01-01         House Ads  personalization       True   \n",
              "\n",
              "  language_displayed language_preferred    age_group date_subscribed  \\\n",
              "0            English            English  19-24 years      2018-01-01   \n",
              "1             Arabic             Arabic  24-30 years      2018-01-01   \n",
              "2            English            English   0-18 years      2018-01-01   \n",
              "3            English            English  19-24 years      2018-01-01   \n",
              "4             Arabic             Arabic  24-30 years      2018-01-01   \n",
              "\n",
              "  date_canceled subscribing_channel  is_retained  conversion  week_subscribed  \n",
              "0    2018-01-18           House Ads        False           1                1  \n",
              "1    2018-02-22           House Ads        False           1                1  \n",
              "2    2018-03-09           House Ads        False           1                1  \n",
              "3    2018-02-18           House Ads        False           1                1  \n",
              "4    2018-03-03           House Ads        False           1                1  "
            ],
            "text/html": [
              "\n",
              "  <div id=\"df-0c250580-c358-48a4-8a0b-ae4f6c421153\">\n",
              "    <div class=\"colab-df-container\">\n",
              "      <div>\n",
              "<style scoped>\n",
              "    .dataframe tbody tr th:only-of-type {\n",
              "        vertical-align: middle;\n",
              "    }\n",
              "\n",
              "    .dataframe tbody tr th {\n",
              "        vertical-align: top;\n",
              "    }\n",
              "\n",
              "    .dataframe thead th {\n",
              "        text-align: right;\n",
              "    }\n",
              "</style>\n",
              "<table border=\"1\" class=\"dataframe\">\n",
              "  <thead>\n",
              "    <tr style=\"text-align: right;\">\n",
              "      <th></th>\n",
              "      <th>user_id</th>\n",
              "      <th>date_served</th>\n",
              "      <th>marketing_channel</th>\n",
              "      <th>variant</th>\n",
              "      <th>converted</th>\n",
              "      <th>language_displayed</th>\n",
              "      <th>language_preferred</th>\n",
              "      <th>age_group</th>\n",
              "      <th>date_subscribed</th>\n",
              "      <th>date_canceled</th>\n",
              "      <th>subscribing_channel</th>\n",
              "      <th>is_retained</th>\n",
              "      <th>conversion</th>\n",
              "      <th>week_subscribed</th>\n",
              "    </tr>\n",
              "  </thead>\n",
              "  <tbody>\n",
              "    <tr>\n",
              "      <th>0</th>\n",
              "      <td>a100000040</td>\n",
              "      <td>2018-01-01</td>\n",
              "      <td>House Ads</td>\n",
              "      <td>personalization</td>\n",
              "      <td>True</td>\n",
              "      <td>English</td>\n",
              "      <td>English</td>\n",
              "      <td>19-24 years</td>\n",
              "      <td>2018-01-01</td>\n",
              "      <td>2018-01-18</td>\n",
              "      <td>House Ads</td>\n",
              "      <td>False</td>\n",
              "      <td>1</td>\n",
              "      <td>1</td>\n",
              "    </tr>\n",
              "    <tr>\n",
              "      <th>1</th>\n",
              "      <td>a100000041</td>\n",
              "      <td>2018-01-01</td>\n",
              "      <td>House Ads</td>\n",
              "      <td>personalization</td>\n",
              "      <td>True</td>\n",
              "      <td>Arabic</td>\n",
              "      <td>Arabic</td>\n",
              "      <td>24-30 years</td>\n",
              "      <td>2018-01-01</td>\n",
              "      <td>2018-02-22</td>\n",
              "      <td>House Ads</td>\n",
              "      <td>False</td>\n",
              "      <td>1</td>\n",
              "      <td>1</td>\n",
              "    </tr>\n",
              "    <tr>\n",
              "      <th>2</th>\n",
              "      <td>a100000042</td>\n",
              "      <td>2018-01-01</td>\n",
              "      <td>House Ads</td>\n",
              "      <td>personalization</td>\n",
              "      <td>True</td>\n",
              "      <td>English</td>\n",
              "      <td>English</td>\n",
              "      <td>0-18 years</td>\n",
              "      <td>2018-01-01</td>\n",
              "      <td>2018-03-09</td>\n",
              "      <td>House Ads</td>\n",
              "      <td>False</td>\n",
              "      <td>1</td>\n",
              "      <td>1</td>\n",
              "    </tr>\n",
              "    <tr>\n",
              "      <th>3</th>\n",
              "      <td>a100000043</td>\n",
              "      <td>2018-01-01</td>\n",
              "      <td>House Ads</td>\n",
              "      <td>personalization</td>\n",
              "      <td>True</td>\n",
              "      <td>English</td>\n",
              "      <td>English</td>\n",
              "      <td>19-24 years</td>\n",
              "      <td>2018-01-01</td>\n",
              "      <td>2018-02-18</td>\n",
              "      <td>House Ads</td>\n",
              "      <td>False</td>\n",
              "      <td>1</td>\n",
              "      <td>1</td>\n",
              "    </tr>\n",
              "    <tr>\n",
              "      <th>4</th>\n",
              "      <td>a100000044</td>\n",
              "      <td>2018-01-01</td>\n",
              "      <td>House Ads</td>\n",
              "      <td>personalization</td>\n",
              "      <td>True</td>\n",
              "      <td>Arabic</td>\n",
              "      <td>Arabic</td>\n",
              "      <td>24-30 years</td>\n",
              "      <td>2018-01-01</td>\n",
              "      <td>2018-03-03</td>\n",
              "      <td>House Ads</td>\n",
              "      <td>False</td>\n",
              "      <td>1</td>\n",
              "      <td>1</td>\n",
              "    </tr>\n",
              "  </tbody>\n",
              "</table>\n",
              "</div>\n",
              "      <button class=\"colab-df-convert\" onclick=\"convertToInteractive('df-0c250580-c358-48a4-8a0b-ae4f6c421153')\"\n",
              "              title=\"Convert this dataframe to an interactive table.\"\n",
              "              style=\"display:none;\">\n",
              "        \n",
              "  <svg xmlns=\"http://www.w3.org/2000/svg\" height=\"24px\"viewBox=\"0 0 24 24\"\n",
              "       width=\"24px\">\n",
              "    <path d=\"M0 0h24v24H0V0z\" fill=\"none\"/>\n",
              "    <path d=\"M18.56 5.44l.94 2.06.94-2.06 2.06-.94-2.06-.94-.94-2.06-.94 2.06-2.06.94zm-11 1L8.5 8.5l.94-2.06 2.06-.94-2.06-.94L8.5 2.5l-.94 2.06-2.06.94zm10 10l.94 2.06.94-2.06 2.06-.94-2.06-.94-.94-2.06-.94 2.06-2.06.94z\"/><path d=\"M17.41 7.96l-1.37-1.37c-.4-.4-.92-.59-1.43-.59-.52 0-1.04.2-1.43.59L10.3 9.45l-7.72 7.72c-.78.78-.78 2.05 0 2.83L4 21.41c.39.39.9.59 1.41.59.51 0 1.02-.2 1.41-.59l7.78-7.78 2.81-2.81c.8-.78.8-2.07 0-2.86zM5.41 20L4 18.59l7.72-7.72 1.47 1.35L5.41 20z\"/>\n",
              "  </svg>\n",
              "      </button>\n",
              "      \n",
              "  <style>\n",
              "    .colab-df-container {\n",
              "      display:flex;\n",
              "      flex-wrap:wrap;\n",
              "      gap: 12px;\n",
              "    }\n",
              "\n",
              "    .colab-df-convert {\n",
              "      background-color: #E8F0FE;\n",
              "      border: none;\n",
              "      border-radius: 50%;\n",
              "      cursor: pointer;\n",
              "      display: none;\n",
              "      fill: #1967D2;\n",
              "      height: 32px;\n",
              "      padding: 0 0 0 0;\n",
              "      width: 32px;\n",
              "    }\n",
              "\n",
              "    .colab-df-convert:hover {\n",
              "      background-color: #E2EBFA;\n",
              "      box-shadow: 0px 1px 2px rgba(60, 64, 67, 0.3), 0px 1px 3px 1px rgba(60, 64, 67, 0.15);\n",
              "      fill: #174EA6;\n",
              "    }\n",
              "\n",
              "    [theme=dark] .colab-df-convert {\n",
              "      background-color: #3B4455;\n",
              "      fill: #D2E3FC;\n",
              "    }\n",
              "\n",
              "    [theme=dark] .colab-df-convert:hover {\n",
              "      background-color: #434B5C;\n",
              "      box-shadow: 0px 1px 3px 1px rgba(0, 0, 0, 0.15);\n",
              "      filter: drop-shadow(0px 1px 2px rgba(0, 0, 0, 0.3));\n",
              "      fill: #FFFFFF;\n",
              "    }\n",
              "  </style>\n",
              "\n",
              "      <script>\n",
              "        const buttonEl =\n",
              "          document.querySelector('#df-0c250580-c358-48a4-8a0b-ae4f6c421153 button.colab-df-convert');\n",
              "        buttonEl.style.display =\n",
              "          google.colab.kernel.accessAllowed ? 'block' : 'none';\n",
              "\n",
              "        async function convertToInteractive(key) {\n",
              "          const element = document.querySelector('#df-0c250580-c358-48a4-8a0b-ae4f6c421153');\n",
              "          const dataTable =\n",
              "            await google.colab.kernel.invokeFunction('convertToInteractive',\n",
              "                                                     [key], {});\n",
              "          if (!dataTable) return;\n",
              "\n",
              "          const docLinkHtml = 'Like what you see? Visit the ' +\n",
              "            '<a target=\"_blank\" href=https://colab.research.google.com/notebooks/data_table.ipynb>data table notebook</a>'\n",
              "            + ' to learn more about interactive tables.';\n",
              "          element.innerHTML = '';\n",
              "          dataTable['output_type'] = 'display_data';\n",
              "          await google.colab.output.renderOutput(dataTable, element);\n",
              "          const docLink = document.createElement('div');\n",
              "          docLink.innerHTML = docLinkHtml;\n",
              "          element.appendChild(docLink);\n",
              "        }\n",
              "      </script>\n",
              "    </div>\n",
              "  </div>\n",
              "  "
            ]
          },
          "metadata": {},
          "execution_count": 19
        }
      ],
      "source": [
        "#Create week based column\n",
        "raw_data['week_subscribed'] = raw_data['date_subscribed'].dt.isocalendar().week\n",
        "\n",
        "raw_data.head()"
      ]
    },
    {
      "cell_type": "code",
      "execution_count": 20,
      "metadata": {
        "colab": {
          "base_uri": "https://localhost:8080/",
          "height": 0
        },
        "id": "kpTqOum7qRtf",
        "outputId": "70e6dd2e-38b5-43eb-95b6-c488cc300b94"
      },
      "outputs": [
        {
          "output_type": "display_data",
          "data": {
            "text/plain": [
              "<Figure size 576x360 with 1 Axes>"
            ],
            "image/png": "[encoded data removed]"
          },
          "metadata": {
            "needs_background": "light"
          }
        }
      ],
      "source": [
        "pd.pivot_table(raw_data,index=\"week_subscribed\",columns=\"variant\",values=\"conversion\",\n",
        "               aggfunc='sum').plot(figsize=(8,5), marker='o')\n",
        "\n",
        "plt.title('Total User Converted per Variant from Time to Time')\n",
        "plt.ylabel('User Converted')\n",
        "plt.xlabel('Week')\n",
        "plt.legend(['Control','Personalization'], loc = 0)\n",
        "plt.xticks([1,2,3,4,5])\n",
        "plt.grid(True);"
      ]
    },
    {
      "cell_type": "markdown",
      "metadata": {
        "id": "RVyFPgKPu2As"
      },
      "source": [
        "**Total user converted seems to decrease time to time for both control and treated variant.**"
      ]
    },
    {
      "cell_type": "code",
      "execution_count": 21,
      "metadata": {
        "colab": {
          "base_uri": "https://localhost:8080/",
          "height": 0
        },
        "id": "XkiLYftfwo0Z",
        "outputId": "af3c046a-1118-46e5-bfd9-286c363f844c"
      },
      "outputs": [
        {
          "output_type": "display_data",
          "data": {
            "text/plain": [
              "<Figure size 576x360 with 1 Axes>"
            ],
            "image/png": "[encoded data removed]"
          },
          "metadata": {
            "needs_background": "light"
          }
        }
      ],
      "source": [
        "pd.pivot_table(raw_data,index=\"week_subscribed\",columns=\"variant\",values=\"conversion\",\n",
        "               aggfunc='mean').plot(figsize=(8,5), marker='o')\n",
        "\n",
        "plt.title('Conversion Rate per Variant from Time to Time')\n",
        "plt.ylabel('Conversion Rate')\n",
        "plt.xlabel('Week')\n",
        "plt.legend(['Control','Personalization'], loc = 0)\n",
        "plt.xticks([1,2,3,4,5])\n",
        "plt.grid(True);"
      ]
    },
    {
      "cell_type": "markdown",
      "metadata": {
        "id": "HOlIDtxQYDku"
      },
      "source": [
        "**But during the experimental period, it can be concluded from the graph above that treated variant seems to have an uptrend on the second week until 90% and then the trend is going down till the fourth week reach 70% conversion rate. After that the trend is stagnant. For control variant, it seems fluctuative.**"
      ]
    },
    {
      "cell_type": "markdown",
      "metadata": {
        "id": "EBLl7NxFxHdk"
      },
      "source": [
        "##Total User Converted per Age Group"
      ]
    },
    {
      "cell_type": "code",
      "source": [
        "prop(\"age_group\", \"converted\")"
      ],
      "metadata": {
        "colab": {
          "base_uri": "https://localhost:8080/",
          "height": 0
        },
        "id": "NBtQ04JcZN7a",
        "outputId": "3343d392-111f-44ca-ca74-7c1342932a8e"
      },
      "execution_count": 22,
      "outputs": [
        {
          "output_type": "display_data",
          "data": {
            "text/plain": [
              "<Figure size 720x432 with 1 Axes>"
            ],
            "image/png": "[encoded data removed]"
          },
          "metadata": {
            "needs_background": "light"
          }
        }
      ]
    },
    {
      "cell_type": "markdown",
      "metadata": {
        "id": "phfiDOZCBPHw"
      },
      "source": [
        "Age group 55+ years has the most conversion rate which is 76.5% even though it has the smallest number of total user (around 26 users converted). Followed by 24-30 years (78 users converted), 19-24 years (95 users converted), and 0-18 years (66 users converted) with conversion rate around 62-65%."
      ]
    },
    {
      "cell_type": "markdown",
      "metadata": {
        "id": "IfIY_2pqBO0i"
      },
      "source": [
        "##Correlation between Preferred Language and Conversion"
      ]
    },
    {
      "cell_type": "code",
      "execution_count": 23,
      "metadata": {
        "colab": {
          "base_uri": "https://localhost:8080/",
          "height": 0
        },
        "id": "e8pfHZm8fuNf",
        "outputId": "752b3b58-c9ee-46d1-85d0-1ba9bc0518fd"
      },
      "outputs": [
        {
          "output_type": "display_data",
          "data": {
            "text/plain": [
              "<Figure size 720x720 with 2 Axes>"
            ],
            "image/png": "[encoded data removed]"
          },
          "metadata": {
            "needs_background": "light"
          }
        }
      ],
      "source": [
        "selected_col = raw_data[['language_preferred', 'converted']]\n",
        "corr = associations(selected_col, filename= 'language_correlation.png', figsize=(10,10))"
      ]
    },
    {
      "cell_type": "markdown",
      "metadata": {
        "id": "-kzpj7qAiH5G"
      },
      "source": [
        "I am using associations function from dyhton package to find out the correlation between language preferred and conversion. And the result is:\n",
        "\n",
        "**The correlation between language preferred and conversion seems too weak which is only 17%.**"
      ]
    },
    {
      "cell_type": "markdown",
      "metadata": {
        "id": "H6N-1hTgFCef"
      },
      "source": [
        "#Proportion Test (Chi-Square)"
      ]
    },
    {
      "cell_type": "code",
      "execution_count": 24,
      "metadata": {
        "id": "KkzOwv-0FKCu"
      },
      "outputs": [],
      "source": [
        "conv_calculation = raw_data.groupby(\n",
        "    ['variant', 'converted'], as_index = False\n",
        ").size().pivot(\n",
        "    index='variant', columns = \"converted\", values = \"size\"\n",
        ").reset_index().assign(\n",
        "    conv_percent = lambda x: x[True] / (x[True] + x[False])\n",
        ").assign(\n",
        "    total_sample = lambda x: x[True] + x[False]\n",
        ")"
      ]
    },
    {
      "cell_type": "markdown",
      "metadata": {
        "id": "__sjCUG6F7zb"
      },
      "source": [
        "**The Result**"
      ]
    },
    {
      "cell_type": "code",
      "execution_count": 25,
      "metadata": {
        "id": "1-CT6ZHhFRHE",
        "colab": {
          "base_uri": "https://localhost:8080/",
          "height": 112
        },
        "outputId": "0d5ab044-ef2c-4c43-f344-423c1bd8ae4f"
      },
      "outputs": [
        {
          "output_type": "execute_result",
          "data": {
            "text/plain": [
              "converted          variant  False  True  conv_percent  total_sample\n",
              "0                  control    153   112        42.26%           265\n",
              "1          personalization     73   237        76.45%           310"
            ],
            "text/html": [
              "\n",
              "  <div id=\"df-8baac585-4f36-454d-9924-5f36e24d72a4\">\n",
              "    <div class=\"colab-df-container\">\n",
              "      <div>\n",
              "<style scoped>\n",
              "    .dataframe tbody tr th:only-of-type {\n",
              "        vertical-align: middle;\n",
              "    }\n",
              "\n",
              "    .dataframe tbody tr th {\n",
              "        vertical-align: top;\n",
              "    }\n",
              "\n",
              "    .dataframe thead th {\n",
              "        text-align: right;\n",
              "    }\n",
              "</style>\n",
              "<table border=\"1\" class=\"dataframe\">\n",
              "  <thead>\n",
              "    <tr style=\"text-align: right;\">\n",
              "      <th>converted</th>\n",
              "      <th>variant</th>\n",
              "      <th>False</th>\n",
              "      <th>True</th>\n",
              "      <th>conv_percent</th>\n",
              "      <th>total_sample</th>\n",
              "    </tr>\n",
              "  </thead>\n",
              "  <tbody>\n",
              "    <tr>\n",
              "      <th>0</th>\n",
              "      <td>control</td>\n",
              "      <td>153</td>\n",
              "      <td>112</td>\n",
              "      <td>42.26%</td>\n",
              "      <td>265</td>\n",
              "    </tr>\n",
              "    <tr>\n",
              "      <th>1</th>\n",
              "      <td>personalization</td>\n",
              "      <td>73</td>\n",
              "      <td>237</td>\n",
              "      <td>76.45%</td>\n",
              "      <td>310</td>\n",
              "    </tr>\n",
              "  </tbody>\n",
              "</table>\n",
              "</div>\n",
              "      <button class=\"colab-df-convert\" onclick=\"convertToInteractive('df-8baac585-4f36-454d-9924-5f36e24d72a4')\"\n",
              "              title=\"Convert this dataframe to an interactive table.\"\n",
              "              style=\"display:none;\">\n",
              "        \n",
              "  <svg xmlns=\"http://www.w3.org/2000/svg\" height=\"24px\"viewBox=\"0 0 24 24\"\n",
              "       width=\"24px\">\n",
              "    <path d=\"M0 0h24v24H0V0z\" fill=\"none\"/>\n",
              "    <path d=\"M18.56 5.44l.94 2.06.94-2.06 2.06-.94-2.06-.94-.94-2.06-.94 2.06-2.06.94zm-11 1L8.5 8.5l.94-2.06 2.06-.94-2.06-.94L8.5 2.5l-.94 2.06-2.06.94zm10 10l.94 2.06.94-2.06 2.06-.94-2.06-.94-.94-2.06-.94 2.06-2.06.94z\"/><path d=\"M17.41 7.96l-1.37-1.37c-.4-.4-.92-.59-1.43-.59-.52 0-1.04.2-1.43.59L10.3 9.45l-7.72 7.72c-.78.78-.78 2.05 0 2.83L4 21.41c.39.39.9.59 1.41.59.51 0 1.02-.2 1.41-.59l7.78-7.78 2.81-2.81c.8-.78.8-2.07 0-2.86zM5.41 20L4 18.59l7.72-7.72 1.47 1.35L5.41 20z\"/>\n",
              "  </svg>\n",
              "      </button>\n",
              "      \n",
              "  <style>\n",
              "    .colab-df-container {\n",
              "      display:flex;\n",
              "      flex-wrap:wrap;\n",
              "      gap: 12px;\n",
              "    }\n",
              "\n",
              "    .colab-df-convert {\n",
              "      background-color: #E8F0FE;\n",
              "      border: none;\n",
              "      border-radius: 50%;\n",
              "      cursor: pointer;\n",
              "      display: none;\n",
              "      fill: #1967D2;\n",
              "      height: 32px;\n",
              "      padding: 0 0 0 0;\n",
              "      width: 32px;\n",
              "    }\n",
              "\n",
              "    .colab-df-convert:hover {\n",
              "      background-color: #E2EBFA;\n",
              "      box-shadow: 0px 1px 2px rgba(60, 64, 67, 0.3), 0px 1px 3px 1px rgba(60, 64, 67, 0.15);\n",
              "      fill: #174EA6;\n",
              "    }\n",
              "\n",
              "    [theme=dark] .colab-df-convert {\n",
              "      background-color: #3B4455;\n",
              "      fill: #D2E3FC;\n",
              "    }\n",
              "\n",
              "    [theme=dark] .colab-df-convert:hover {\n",
              "      background-color: #434B5C;\n",
              "      box-shadow: 0px 1px 3px 1px rgba(0, 0, 0, 0.15);\n",
              "      filter: drop-shadow(0px 1px 2px rgba(0, 0, 0, 0.3));\n",
              "      fill: #FFFFFF;\n",
              "    }\n",
              "  </style>\n",
              "\n",
              "      <script>\n",
              "        const buttonEl =\n",
              "          document.querySelector('#df-8baac585-4f36-454d-9924-5f36e24d72a4 button.colab-df-convert');\n",
              "        buttonEl.style.display =\n",
              "          google.colab.kernel.accessAllowed ? 'block' : 'none';\n",
              "\n",
              "        async function convertToInteractive(key) {\n",
              "          const element = document.querySelector('#df-8baac585-4f36-454d-9924-5f36e24d72a4');\n",
              "          const dataTable =\n",
              "            await google.colab.kernel.invokeFunction('convertToInteractive',\n",
              "                                                     [key], {});\n",
              "          if (!dataTable) return;\n",
              "\n",
              "          const docLinkHtml = 'Like what you see? Visit the ' +\n",
              "            '<a target=\"_blank\" href=https://colab.research.google.com/notebooks/data_table.ipynb>data table notebook</a>'\n",
              "            + ' to learn more about interactive tables.';\n",
              "          element.innerHTML = '';\n",
              "          dataTable['output_type'] = 'display_data';\n",
              "          await google.colab.output.renderOutput(dataTable, element);\n",
              "          const docLink = document.createElement('div');\n",
              "          docLink.innerHTML = docLinkHtml;\n",
              "          element.appendChild(docLink);\n",
              "        }\n",
              "      </script>\n",
              "    </div>\n",
              "  </div>\n",
              "  "
            ]
          },
          "metadata": {},
          "execution_count": 25
        }
      ],
      "source": [
        "conv_calculation"
      ]
    },
    {
      "cell_type": "code",
      "execution_count": 26,
      "metadata": {
        "id": "5ZyPSvF8Fa8j"
      },
      "outputs": [],
      "source": [
        "conv_A = conv_calculation[conv_calculation['variant'] == 'control']['conv_percent'].values\n",
        "conv_B = conv_calculation[conv_calculation['variant'] == 'personalization']['conv_percent'].values"
      ]
    },
    {
      "cell_type": "code",
      "execution_count": 27,
      "metadata": {
        "id": "7TtAMbbdFemU",
        "colab": {
          "base_uri": "https://localhost:8080/"
        },
        "outputId": "06fa968f-9181-4f65-a6bc-8871dadaa2d6"
      },
      "outputs": [
        {
          "output_type": "stream",
          "name": "stdout",
          "text": [
            "[80.88997696]\n"
          ]
        }
      ],
      "source": [
        "print((conv_B - conv_A)*100/conv_A)"
      ]
    },
    {
      "cell_type": "markdown",
      "metadata": {
        "id": "CGBhnrPiF3JC"
      },
      "source": [
        "**From the descriptive value above that there are 80% uplift of B compared to A**"
      ]
    },
    {
      "cell_type": "markdown",
      "metadata": {
        "id": "C9hz-_jKGAGc"
      },
      "source": [
        "##Chi Square Test"
      ]
    },
    {
      "cell_type": "code",
      "execution_count": 28,
      "metadata": {
        "id": "v6DryQ-bFmsk"
      },
      "outputs": [],
      "source": [
        "# find number of succession\n",
        "success = conv_calculation[['total_sample', True]].values[:,1]\n",
        "# find number of all observations\n",
        "obs = conv_calculation[['total_sample', True]].values[:,0]"
      ]
    },
    {
      "cell_type": "code",
      "execution_count": 29,
      "metadata": {
        "id": "VEeFLEemGHX9"
      },
      "outputs": [],
      "source": [
        "result = proportions_chisquare(success, obs)"
      ]
    },
    {
      "cell_type": "code",
      "execution_count": 30,
      "metadata": {
        "id": "NSuVvxUwGIX5",
        "colab": {
          "base_uri": "https://localhost:8080/"
        },
        "outputId": "27617cce-634e-4b8f-a7f6-59f9a34208d5"
      },
      "outputs": [
        {
          "output_type": "stream",
          "name": "stdout",
          "text": [
            "X-squared: 69.996\n",
            "p-value: 0.000\n"
          ]
        }
      ],
      "source": [
        "# Calculate chi squared result\n",
        "print('X-squared: %.3f' % result[0])\n",
        "print('p-value: %.3f' % result[1])"
      ]
    },
    {
      "cell_type": "markdown",
      "metadata": {
        "id": "hC9rejrVGNft"
      },
      "source": [
        "**Interpretation**\n",
        "\n",
        "- Variant control has 112 conversions compared to variant personalization which has 237 conversions\n",
        "- Relative uplift of variant personalization (76.45% conversion rate) from variant control (42.26% conversion rate) around 80.9%\n",
        "- p-value computed is 0.000 < 0.05, hence there is strong statistical significance in test results. It means that treatment had an impact on conversion rate. Then, we should reject null hypothesis and create personalization ads for all users\n"
      ]
    },
    {
      "cell_type": "markdown",
      "metadata": {
        "id": "_39H1pytJYd9"
      },
      "source": [
        "#Linear Models"
      ]
    },
    {
      "cell_type": "code",
      "execution_count": 31,
      "metadata": {
        "id": "Kwewvg4wJaky",
        "colab": {
          "base_uri": "https://localhost:8080/"
        },
        "outputId": "0bb59f53-12d7-4d86-f7b3-7aa147e227d1"
      },
      "outputs": [
        {
          "output_type": "stream",
          "name": "stderr",
          "text": [
            "/usr/local/lib/python3.7/dist-packages/statsmodels/tsa/tsatools.py:142: FutureWarning: In a future version of pandas all arguments of concat except for the argument 'objs' will be keyword-only\n",
            "  x = pd.concat(x[::order], 1)\n"
          ]
        }
      ],
      "source": [
        "# select variant and converted columns\n",
        "data_for_model = raw_data[['variant', 'converted']].copy()\n",
        "# create dummy variables and remove first category ('variant_control')\n",
        "data_for_model = pd.get_dummies(data_for_model, drop_first = True)\n",
        "# add constant\n",
        "data_for_model = sm.add_constant(data_for_model)"
      ]
    },
    {
      "cell_type": "code",
      "execution_count": 32,
      "metadata": {
        "id": "5voZZ9TNJtk6",
        "colab": {
          "base_uri": "https://localhost:8080/",
          "height": 206
        },
        "outputId": "0fe1da8d-9b3a-4d0f-9245-dbc47c49762d"
      },
      "outputs": [
        {
          "output_type": "execute_result",
          "data": {
            "text/plain": [
              "    const  converted  variant_personalization\n",
              "0 100.00%       True                        1\n",
              "1 100.00%       True                        1\n",
              "2 100.00%       True                        1\n",
              "3 100.00%       True                        1\n",
              "4 100.00%       True                        1"
            ],
            "text/html": [
              "\n",
              "  <div id=\"df-e83ea1be-233e-48a8-a1b9-3e25875c82d2\">\n",
              "    <div class=\"colab-df-container\">\n",
              "      <div>\n",
              "<style scoped>\n",
              "    .dataframe tbody tr th:only-of-type {\n",
              "        vertical-align: middle;\n",
              "    }\n",
              "\n",
              "    .dataframe tbody tr th {\n",
              "        vertical-align: top;\n",
              "    }\n",
              "\n",
              "    .dataframe thead th {\n",
              "        text-align: right;\n",
              "    }\n",
              "</style>\n",
              "<table border=\"1\" class=\"dataframe\">\n",
              "  <thead>\n",
              "    <tr style=\"text-align: right;\">\n",
              "      <th></th>\n",
              "      <th>const</th>\n",
              "      <th>converted</th>\n",
              "      <th>variant_personalization</th>\n",
              "    </tr>\n",
              "  </thead>\n",
              "  <tbody>\n",
              "    <tr>\n",
              "      <th>0</th>\n",
              "      <td>100.00%</td>\n",
              "      <td>True</td>\n",
              "      <td>1</td>\n",
              "    </tr>\n",
              "    <tr>\n",
              "      <th>1</th>\n",
              "      <td>100.00%</td>\n",
              "      <td>True</td>\n",
              "      <td>1</td>\n",
              "    </tr>\n",
              "    <tr>\n",
              "      <th>2</th>\n",
              "      <td>100.00%</td>\n",
              "      <td>True</td>\n",
              "      <td>1</td>\n",
              "    </tr>\n",
              "    <tr>\n",
              "      <th>3</th>\n",
              "      <td>100.00%</td>\n",
              "      <td>True</td>\n",
              "      <td>1</td>\n",
              "    </tr>\n",
              "    <tr>\n",
              "      <th>4</th>\n",
              "      <td>100.00%</td>\n",
              "      <td>True</td>\n",
              "      <td>1</td>\n",
              "    </tr>\n",
              "  </tbody>\n",
              "</table>\n",
              "</div>\n",
              "      <button class=\"colab-df-convert\" onclick=\"convertToInteractive('df-e83ea1be-233e-48a8-a1b9-3e25875c82d2')\"\n",
              "              title=\"Convert this dataframe to an interactive table.\"\n",
              "              style=\"display:none;\">\n",
              "        \n",
              "  <svg xmlns=\"http://www.w3.org/2000/svg\" height=\"24px\"viewBox=\"0 0 24 24\"\n",
              "       width=\"24px\">\n",
              "    <path d=\"M0 0h24v24H0V0z\" fill=\"none\"/>\n",
              "    <path d=\"M18.56 5.44l.94 2.06.94-2.06 2.06-.94-2.06-.94-.94-2.06-.94 2.06-2.06.94zm-11 1L8.5 8.5l.94-2.06 2.06-.94-2.06-.94L8.5 2.5l-.94 2.06-2.06.94zm10 10l.94 2.06.94-2.06 2.06-.94-2.06-.94-.94-2.06-.94 2.06-2.06.94z\"/><path d=\"M17.41 7.96l-1.37-1.37c-.4-.4-.92-.59-1.43-.59-.52 0-1.04.2-1.43.59L10.3 9.45l-7.72 7.72c-.78.78-.78 2.05 0 2.83L4 21.41c.39.39.9.59 1.41.59.51 0 1.02-.2 1.41-.59l7.78-7.78 2.81-2.81c.8-.78.8-2.07 0-2.86zM5.41 20L4 18.59l7.72-7.72 1.47 1.35L5.41 20z\"/>\n",
              "  </svg>\n",
              "      </button>\n",
              "      \n",
              "  <style>\n",
              "    .colab-df-container {\n",
              "      display:flex;\n",
              "      flex-wrap:wrap;\n",
              "      gap: 12px;\n",
              "    }\n",
              "\n",
              "    .colab-df-convert {\n",
              "      background-color: #E8F0FE;\n",
              "      border: none;\n",
              "      border-radius: 50%;\n",
              "      cursor: pointer;\n",
              "      display: none;\n",
              "      fill: #1967D2;\n",
              "      height: 32px;\n",
              "      padding: 0 0 0 0;\n",
              "      width: 32px;\n",
              "    }\n",
              "\n",
              "    .colab-df-convert:hover {\n",
              "      background-color: #E2EBFA;\n",
              "      box-shadow: 0px 1px 2px rgba(60, 64, 67, 0.3), 0px 1px 3px 1px rgba(60, 64, 67, 0.15);\n",
              "      fill: #174EA6;\n",
              "    }\n",
              "\n",
              "    [theme=dark] .colab-df-convert {\n",
              "      background-color: #3B4455;\n",
              "      fill: #D2E3FC;\n",
              "    }\n",
              "\n",
              "    [theme=dark] .colab-df-convert:hover {\n",
              "      background-color: #434B5C;\n",
              "      box-shadow: 0px 1px 3px 1px rgba(0, 0, 0, 0.15);\n",
              "      filter: drop-shadow(0px 1px 2px rgba(0, 0, 0, 0.3));\n",
              "      fill: #FFFFFF;\n",
              "    }\n",
              "  </style>\n",
              "\n",
              "      <script>\n",
              "        const buttonEl =\n",
              "          document.querySelector('#df-e83ea1be-233e-48a8-a1b9-3e25875c82d2 button.colab-df-convert');\n",
              "        buttonEl.style.display =\n",
              "          google.colab.kernel.accessAllowed ? 'block' : 'none';\n",
              "\n",
              "        async function convertToInteractive(key) {\n",
              "          const element = document.querySelector('#df-e83ea1be-233e-48a8-a1b9-3e25875c82d2');\n",
              "          const dataTable =\n",
              "            await google.colab.kernel.invokeFunction('convertToInteractive',\n",
              "                                                     [key], {});\n",
              "          if (!dataTable) return;\n",
              "\n",
              "          const docLinkHtml = 'Like what you see? Visit the ' +\n",
              "            '<a target=\"_blank\" href=https://colab.research.google.com/notebooks/data_table.ipynb>data table notebook</a>'\n",
              "            + ' to learn more about interactive tables.';\n",
              "          element.innerHTML = '';\n",
              "          dataTable['output_type'] = 'display_data';\n",
              "          await google.colab.output.renderOutput(dataTable, element);\n",
              "          const docLink = document.createElement('div');\n",
              "          docLink.innerHTML = docLinkHtml;\n",
              "          element.appendChild(docLink);\n",
              "        }\n",
              "      </script>\n",
              "    </div>\n",
              "  </div>\n",
              "  "
            ]
          },
          "metadata": {},
          "execution_count": 32
        }
      ],
      "source": [
        "# check the first 5 rows\n",
        "data_for_model.head()"
      ]
    },
    {
      "cell_type": "code",
      "execution_count": 33,
      "metadata": {
        "id": "_SJazMzoJw82",
        "colab": {
          "base_uri": "https://localhost:8080/"
        },
        "outputId": "e7c87e2e-55cd-4e2b-a10f-ccf9b42264b2"
      },
      "outputs": [
        {
          "output_type": "stream",
          "name": "stdout",
          "text": [
            "Optimization terminated successfully.\n",
            "         Current function value: 0.608179\n",
            "         Iterations 5\n"
          ]
        }
      ],
      "source": [
        "# define and fit logistic regression model\n",
        "log_reg = sm.Logit(data_for_model['converted'], data_for_model[['variant_personalization','const']]).fit()"
      ]
    },
    {
      "cell_type": "code",
      "execution_count": 34,
      "metadata": {
        "id": "53Vwd88KJ4hz",
        "colab": {
          "base_uri": "https://localhost:8080/",
          "height": 252
        },
        "outputId": "fd6d9c65-600f-4962-ce1b-3a682364d632"
      },
      "outputs": [
        {
          "output_type": "execute_result",
          "data": {
            "text/plain": [
              "<class 'statsmodels.iolib.summary.Summary'>\n",
              "\"\"\"\n",
              "                           Logit Regression Results                           \n",
              "==============================================================================\n",
              "Dep. Variable:              converted   No. Observations:                  575\n",
              "Model:                          Logit   Df Residuals:                      573\n",
              "Method:                           MLE   Df Model:                            1\n",
              "Date:                Thu, 27 Oct 2022   Pseudo R-squ.:                 0.09239\n",
              "Time:                        09:23:15   Log-Likelihood:                -349.70\n",
              "converged:                       True   LL-Null:                       -385.30\n",
              "Covariance Type:            nonrobust   LLR p-value:                 3.232e-17\n",
              "===========================================================================================\n",
              "                              coef    std err          z      P>|z|      [0.025      0.975]\n",
              "-------------------------------------------------------------------------------------------\n",
              "variant_personalization     1.4895      0.183      8.153      0.000       1.131       1.848\n",
              "const                      -0.3119      0.124     -2.508      0.012      -0.556      -0.068\n",
              "===========================================================================================\n",
              "\"\"\""
            ],
            "text/html": [
              "<table class=\"simpletable\">\n",
              "<caption>Logit Regression Results</caption>\n",
              "<tr>\n",
              "  <th>Dep. Variable:</th>       <td>converted</td>    <th>  No. Observations:  </th>  <td>   575</td>  \n",
              "</tr>\n",
              "<tr>\n",
              "  <th>Model:</th>                 <td>Logit</td>      <th>  Df Residuals:      </th>  <td>   573</td>  \n",
              "</tr>\n",
              "<tr>\n",
              "  <th>Method:</th>                 <td>MLE</td>       <th>  Df Model:          </th>  <td>     1</td>  \n",
              "</tr>\n",
              "<tr>\n",
              "  <th>Date:</th>            <td>Thu, 27 Oct 2022</td> <th>  Pseudo R-squ.:     </th>  <td>0.09239</td> \n",
              "</tr>\n",
              "<tr>\n",
              "  <th>Time:</th>                <td>09:23:15</td>     <th>  Log-Likelihood:    </th> <td> -349.70</td> \n",
              "</tr>\n",
              "<tr>\n",
              "  <th>converged:</th>             <td>True</td>       <th>  LL-Null:           </th> <td> -385.30</td> \n",
              "</tr>\n",
              "<tr>\n",
              "  <th>Covariance Type:</th>     <td>nonrobust</td>    <th>  LLR p-value:       </th> <td>3.232e-17</td>\n",
              "</tr>\n",
              "</table>\n",
              "<table class=\"simpletable\">\n",
              "<tr>\n",
              "             <td></td>                <th>coef</th>     <th>std err</th>      <th>z</th>      <th>P>|z|</th>  <th>[0.025</th>    <th>0.975]</th>  \n",
              "</tr>\n",
              "<tr>\n",
              "  <th>variant_personalization</th> <td>    1.4895</td> <td>    0.183</td> <td>    8.153</td> <td> 0.000</td> <td>    1.131</td> <td>    1.848</td>\n",
              "</tr>\n",
              "<tr>\n",
              "  <th>const</th>                   <td>   -0.3119</td> <td>    0.124</td> <td>   -2.508</td> <td> 0.012</td> <td>   -0.556</td> <td>   -0.068</td>\n",
              "</tr>\n",
              "</table>"
            ]
          },
          "metadata": {},
          "execution_count": 34
        }
      ],
      "source": [
        "# check model summary\n",
        "log_reg.summary()"
      ]
    },
    {
      "cell_type": "markdown",
      "metadata": {
        "id": "vNu1gpMEJ9rp"
      },
      "source": [
        "**Interpretation**\n",
        "\n",
        "- We don't have to see the Pseudo R-squ because we only focus on the effect of treatment by looking at the P-value\n",
        "- We can observe uplift of variant B around 148%\n",
        "- Based on p-value = 0.000 < alpha = 0.05, hence there is strong statistical significance in test results. It means the treatment ads which is personalization had a positive impact on conversion rate. Then, we should reject null hypothesis and create personalization ads for all users.\n"
      ]
    },
    {
      "cell_type": "markdown",
      "metadata": {
        "id": "hiCP9bWOL-Z9"
      },
      "source": [
        "#Recommendations\n",
        "\n",
        "\n",
        "---\n",
        "\n",
        "\n",
        "\n",
        "1.   Create more personalization ads for customers especially social media and email marketing channel which aim age group 0-30 years that also has high conversion rate after age 55+ years.\n",
        "2.   Collecting more customer data and leveraging it to improve services that can outperform the competitor. For example, by collecting recently listened songs which have lots of spending time , we can create a \"Your New Favorite\" playlist for them.\n",
        "3. Not only focusing on services, but also improving products by collaborating with other apps in order to gain innovative engagement and decrease the churn rate\n",
        "\n"
      ]
    }
  ],
  "metadata": {
    "colab": {
      "toc_visible": true,
      "provenance": [],
      "authorship_tag": "ABX9TyNQA5d4b9V8elVOgXJfGSsS",
      "include_colab_link": true
    },
    "kernelspec": {
      "display_name": "Python 3",
      "name": "python3"
    },
    "language_info": {
      "name": "python"
    }
  },
  "nbformat": 4,
  "nbformat_minor": 0
}