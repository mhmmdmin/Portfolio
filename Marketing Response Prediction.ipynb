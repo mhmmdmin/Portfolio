{
  "cells": [
    {
      "cell_type": "markdown",
      "metadata": {
        "id": "view-in-github",
        "colab_type": "text"
      },
      "source": [
        "<a href=\"https://colab.research.google.com/github/mhmmdmin/Portfolio/blob/main/Marketing%20Response%20Prediction.ipynb\" target=\"_parent\"><img src=\"https://colab.research.google.com/assets/colab-badge.svg\" alt=\"Open In Colab\"/></a>"
      ]
    },
    {
      "cell_type": "markdown",
      "metadata": {
        "id": "FAsLr_ghBwAm"
      },
      "source": [
        "#Import and Load Libraries"
      ]
    },
    {
      "cell_type": "code",
      "execution_count": null,
      "metadata": {
        "colab": {
          "background_save": true
        },
        "id": "pxTM9or7WyID",
        "outputId": "dd24b5ef-8942-4bdc-f225-d90f1a0b76ca"
      },
      "outputs": [
        {
          "name": "stdout",
          "output_type": "stream",
          "text": [
            "Looking in indexes: https://pypi.org/simple, https://us-python.pkg.dev/colab-wheels/public/simple/\n",
            "Requirement already satisfied: dalex in /usr/local/lib/python3.7/dist-packages (1.4.1)\n",
            "Requirement already satisfied: pandas>=1.1.2 in /usr/local/lib/python3.7/dist-packages (from dalex) (1.3.5)\n",
            "Requirement already satisfied: scipy>=1.5.4 in /usr/local/lib/python3.7/dist-packages (from dalex) (1.7.3)\n",
            "Requirement already satisfied: tqdm>=4.48.2 in /usr/local/lib/python3.7/dist-packages (from dalex) (4.64.0)\n",
            "Requirement already satisfied: numpy>=1.18.4 in /usr/local/lib/python3.7/dist-packages (from dalex) (1.21.6)\n",
            "Requirement already satisfied: plotly>=4.12.0 in /usr/local/lib/python3.7/dist-packages (from dalex) (5.5.0)\n",
            "Requirement already satisfied: setuptools in /usr/local/lib/python3.7/dist-packages (from dalex) (57.4.0)\n",
            "Requirement already satisfied: pytz>=2017.3 in /usr/local/lib/python3.7/dist-packages (from pandas>=1.1.2->dalex) (2022.2.1)\n",
            "Requirement already satisfied: python-dateutil>=2.7.3 in /usr/local/lib/python3.7/dist-packages (from pandas>=1.1.2->dalex) (2.8.2)\n",
            "Requirement already satisfied: tenacity>=6.2.0 in /usr/local/lib/python3.7/dist-packages (from plotly>=4.12.0->dalex) (8.0.1)\n",
            "Requirement already satisfied: six in /usr/local/lib/python3.7/dist-packages (from plotly>=4.12.0->dalex) (1.15.0)\n",
            "Looking in indexes: https://pypi.org/simple, https://us-python.pkg.dev/colab-wheels/public/simple/\n",
            "Requirement already satisfied: scikit-plot in /usr/local/lib/python3.7/dist-packages (0.3.7)\n",
            "Requirement already satisfied: matplotlib>=1.4.0 in /usr/local/lib/python3.7/dist-packages (from scikit-plot) (3.2.2)\n",
            "Requirement already satisfied: joblib>=0.10 in /usr/local/lib/python3.7/dist-packages (from scikit-plot) (1.1.0)\n",
            "Requirement already satisfied: scikit-learn>=0.18 in /usr/local/lib/python3.7/dist-packages (from scikit-plot) (1.0.2)\n",
            "Requirement already satisfied: scipy>=0.9 in /usr/local/lib/python3.7/dist-packages (from scikit-plot) (1.7.3)\n",
            "Requirement already satisfied: kiwisolver>=1.0.1 in /usr/local/lib/python3.7/dist-packages (from matplotlib>=1.4.0->scikit-plot) (1.4.4)\n",
            "Requirement already satisfied: cycler>=0.10 in /usr/local/lib/python3.7/dist-packages (from matplotlib>=1.4.0->scikit-plot) (0.11.0)\n",
            "Requirement already satisfied: python-dateutil>=2.1 in /usr/local/lib/python3.7/dist-packages (from matplotlib>=1.4.0->scikit-plot) (2.8.2)\n",
            "Requirement already satisfied: pyparsing!=2.0.4,!=2.1.2,!=2.1.6,>=2.0.1 in /usr/local/lib/python3.7/dist-packages (from matplotlib>=1.4.0->scikit-plot) (3.0.9)\n",
            "Requirement already satisfied: numpy>=1.11 in /usr/local/lib/python3.7/dist-packages (from matplotlib>=1.4.0->scikit-plot) (1.21.6)\n",
            "Requirement already satisfied: typing-extensions in /usr/local/lib/python3.7/dist-packages (from kiwisolver>=1.0.1->matplotlib>=1.4.0->scikit-plot) (4.1.1)\n",
            "Requirement already satisfied: six>=1.5 in /usr/local/lib/python3.7/dist-packages (from python-dateutil>=2.1->matplotlib>=1.4.0->scikit-plot) (1.15.0)\n",
            "Requirement already satisfied: threadpoolctl>=2.0.0 in /usr/local/lib/python3.7/dist-packages (from scikit-learn>=0.18->scikit-plot) (3.1.0)\n"
          ]
        }
      ],
      "source": [
        "!pip install dalex\n",
        "!pip install scikit-plot"
      ]
    },
    {
      "cell_type": "code",
      "execution_count": null,
      "metadata": {
        "id": "MogTCKssb_Bu"
      },
      "outputs": [],
      "source": [
        "import numpy as np\n",
        "import pandas as pd\n",
        "pd.set_option(\"max_columns\",None)\n",
        "import matplotlib.pyplot as plt\n",
        "import seaborn as sns\n",
        "\n",
        "from sklearn import metrics\n",
        "from sklearn.model_selection import train_test_split\n",
        "from sklearn.tree import DecisionTreeClassifier\n",
        "from sklearn.ensemble import RandomForestClassifier\n",
        "from sklearn.svm import SVC\n",
        "from sklearn.neighbors import KNeighborsClassifier\n",
        "\n",
        "from xgboost import XGBClassifier\n",
        "\n",
        "import dalex as dx\n",
        "\n",
        "import scikitplot as skplt\n",
        "\n",
        "%matplotlib inline"
      ]
    },
    {
      "cell_type": "markdown",
      "metadata": {
        "id": "LGG__GN-B2tj"
      },
      "source": [
        "#Import and Load Data"
      ]
    },
    {
      "cell_type": "code",
      "execution_count": null,
      "metadata": {
        "id": "G7IYXSsU8yIt"
      },
      "outputs": [],
      "source": [
        "from google.colab import drive\n",
        "drive.mount('/content/drive')"
      ]
    },
    {
      "cell_type": "code",
      "execution_count": null,
      "metadata": {
        "id": "1HbC9L-082IL"
      },
      "outputs": [],
      "source": [
        "df = pd.read_csv(\"/content/drive/MyDrive/data/ifood_df.csv\")"
      ]
    },
    {
      "cell_type": "markdown",
      "metadata": {
        "id": "fnh0LOXCrWOw"
      },
      "source": [
        "1. Age = Customer's age\n",
        "2. Education = Customer's education level\n",
        "3. Customer_Days = How many times customer came to company\n",
        "4. Marital_Divorced = Customer's marital status is divorced\n",
        "5. Marital_Married = Customer's marital status is married\n",
        "6. Marital_Single = Customer's marital status is signle\n",
        "7. Marital_Together = Customer's marital status is together\n",
        "8. Marital_Widow = Customer's marital status is widow\n",
        "9. Education_2n Cycle = Customer's education level is 2nd cycle\n",
        "10. Education_Basic = Customer's education level is basic\n",
        "11. Education_Graduation = Customer's education level is graduation\n",
        "12. Education_Master = Customer's education level is master\n",
        "13. Education_PhD = Customer's education level is PhD\n",
        "14. Marital_Status = Customer's marital status\n",
        "15. Income = Customer's yearly household income\n",
        "16. Kidhome = Number of children in customer's household\n",
        "17. Teenhome = Number of teenagers in customer's household\n",
        "18. Dt_Customer = Date of customer's enrollment with the company\n",
        "19. Recency = Number of days since customer's last purchase\n",
        "20. MntWines = Amount spent on wine in the last 2 years\n",
        "21. MntFruits = Amount spent on fruits in the last 2 years\n",
        "22. MntMeatProducts = Amount spent on meat in the last 2 years\n",
        "23. MntFishProducts = Amount spent on fish in the last 2 years\n",
        "24. MntSweetProducts = Amount spent on sweets in the last 2 years\n",
        "25. MntGoldProds = Amount spent on gold in the last 2 years\n",
        "26. NumDealsPurchases = Number of purchases made with a discount\n",
        "27. NumWebPurchases = Number of purchases made through the company's web site\n",
        "28. NumCatalogPurchases = Number of purchases made using a catalogue\n",
        "29. NumStorePurchases = Number of purchases made directly in stores\n",
        "30. NumWebVisitsMonth = Number of visits to company's web site in the last month\n",
        "31. AcceptedCmp3 = 1 if customer accepted the offer in the 3rd campaign, 0 otherwise\n",
        "32. AcceptedCmp4 = 1 if customer accepted the offer in the 4th campaign, 0 otherwise\n",
        "33. AcceptedCmp5 = 1 if customer accepted the offer in the 5th campaign, 0 otherwise\n",
        "34. AcceptedCmp1 = 1 if customer accepted the offer in the 1st campaign, 0 otherwise\n",
        "35. AcceptedCmp2 = 1 if customer accepted the offer in the 2nd campaign, 0 otherwise\n",
        "36. Response = 1 if customer accepted the offer in the last campaign, 0 otherwise\n",
        "37. Complain = 1 if customer complained in the last 2 years, 0 otherwise"
      ]
    },
    {
      "cell_type": "markdown",
      "metadata": {
        "id": "Py6myfTYB9f8"
      },
      "source": [
        "#Data Inspection"
      ]
    },
    {
      "cell_type": "code",
      "execution_count": null,
      "metadata": {
        "id": "531a7RWr_rUc"
      },
      "outputs": [],
      "source": [
        "#Check Dataset\n",
        "df.head()"
      ]
    },
    {
      "cell_type": "code",
      "execution_count": null,
      "metadata": {
        "id": "MSiu6dIC_tSX"
      },
      "outputs": [],
      "source": [
        "#Check data structure\n",
        "df.info()"
      ]
    },
    {
      "cell_type": "markdown",
      "metadata": {
        "id": "xjkZRm8fTuAu"
      },
      "source": [
        "**Check Unique in Each Columns**"
      ]
    },
    {
      "cell_type": "code",
      "execution_count": null,
      "metadata": {
        "id": "hvQ9LErXBBQo"
      },
      "outputs": [],
      "source": [
        "for x in df.columns:\n",
        "  print(f\"unique value of {x}\")\n",
        "  print(f\"{df[x].unique()}\")\n",
        "  print()"
      ]
    },
    {
      "cell_type": "code",
      "execution_count": null,
      "metadata": {
        "id": "jbrbyZyF_2lS"
      },
      "outputs": [],
      "source": [
        "#Check missing value\n",
        "df.isnull().sum()"
      ]
    },
    {
      "cell_type": "code",
      "execution_count": null,
      "metadata": {
        "id": "sgK5zDPRAU_S"
      },
      "outputs": [],
      "source": [
        "#Check duplicate value\n",
        "df.duplicated().sum()"
      ]
    },
    {
      "cell_type": "code",
      "execution_count": null,
      "metadata": {
        "id": "brFnc6vRAYFG"
      },
      "outputs": [],
      "source": [
        "df[df.duplicated(keep = False)]"
      ]
    },
    {
      "cell_type": "code",
      "execution_count": null,
      "metadata": {
        "id": "Hycfv6HuBYP8"
      },
      "outputs": [],
      "source": [
        "#Drop duplicate value\n",
        "df.drop_duplicates(keep=False, inplace=True)"
      ]
    },
    {
      "cell_type": "markdown",
      "metadata": {
        "id": "CYRZ-7URCEG-"
      },
      "source": [
        "#Data Transformation"
      ]
    },
    {
      "cell_type": "code",
      "execution_count": null,
      "metadata": {
        "id": "rm8mdmZhAegA"
      },
      "outputs": [],
      "source": [
        "#Change Column data type to string and then replace 1 with different number & 0 with blank\n",
        "df['marital_Married']=df['marital_Married'].astype(str).replace({'1':'3','0':''})\n",
        "df['marital_Single']=df['marital_Single'].astype(str).replace({'0':''})\n",
        "df['marital_Together']=df['marital_Together'].astype(str).replace({'1':'2','0':''})\n",
        "df['marital_Widow']=df['marital_Widow'].astype(str).replace({'1':'5','0':''})\n",
        "df['marital_Divorced']=df['marital_Divorced'].astype(str).replace({'1':'4', '0':''})\n",
        "#Join them in one column\n",
        "df['marital_status']=df[\"marital_Widow\"]+df['marital_Together']+df['marital_Single']+df['marital_Married']+df['marital_Divorced']\n",
        "#Map numbers into different categorical values\n",
        "df['marital_status']=df['marital_status'].map({'1':'Single', '2':'Together','3':'Married','4':'Divorced','5':'Widow'})"
      ]
    },
    {
      "cell_type": "code",
      "execution_count": null,
      "metadata": {
        "id": "5esI50CWDA3B"
      },
      "outputs": [],
      "source": [
        "#Change Column data type to string and then replace 1 with different number & 0 with blank.\n",
        "df['education_2n Cycle']= df['education_2n Cycle'].astype(str).replace({'0':''})\n",
        "df['education_Basic']= df['education_Basic'].astype(str).replace({'1':'2','0':''})\n",
        "df['education_Graduation']= df['education_Graduation'].astype(str).replace({'1':'3','0':''})\n",
        "df['education_Master']= df['education_Master'].astype(str).replace({'1':'4','0':''})\n",
        "df['education_PhD']= df['education_PhD'].astype(str).replace({'1':'5','0':''})\n",
        "#Join them in one column\n",
        "df['education_level']= df['education_2n Cycle']+df['education_Basic']+df['education_Graduation']+df['education_Master']+df['education_PhD']\n",
        "#Map numbers into different categorical values\n",
        "df['education_level']= df['education_level'].map({'1':'2n Cycle','2':'Basic','3':'Graduation','4':'Master','5':'PhD'})"
      ]
    },
    {
      "cell_type": "markdown",
      "metadata": {
        "id": "Z5hA0dnrUQlg"
      },
      "source": [
        "**Check the relationship between kidhome and teenhome before join them**"
      ]
    },
    {
      "cell_type": "code",
      "execution_count": null,
      "metadata": {
        "id": "60ny4DGvHtxg"
      },
      "outputs": [],
      "source": [
        "df.groupby(['Kidhome', 'Teenhome'])['MntTotal'].median().plot(kind='bar')"
      ]
    },
    {
      "cell_type": "markdown",
      "metadata": {
        "id": "g37degIzUZ51"
      },
      "source": [
        "There's no relationship between kidhome and teenhome in total amount of spent, so I will merge them into 1 columns."
      ]
    },
    {
      "cell_type": "code",
      "execution_count": null,
      "metadata": {
        "id": "SMWbFSbUJEmp"
      },
      "outputs": [],
      "source": [
        "df['dependent_counts']=df['Kidhome']+df['Teenhome']"
      ]
    },
    {
      "cell_type": "code",
      "execution_count": null,
      "metadata": {
        "id": "Lnnln-JTSXMo"
      },
      "outputs": [],
      "source": [
        "df.groupby('dependent_counts')['MntTotal'].mean().plot(kind='bar')"
      ]
    },
    {
      "cell_type": "code",
      "execution_count": null,
      "metadata": {
        "id": "EefSJaurSg8T"
      },
      "outputs": [],
      "source": [
        "df = df.drop(['education_2n Cycle','education_Basic','education_Graduation','education_Master','education_PhD','marital_Widow','marital_Together','marital_Single','marital_Married','marital_Divorced','Kidhome','Teenhome'], axis=1)"
      ]
    },
    {
      "cell_type": "code",
      "execution_count": null,
      "metadata": {
        "id": "T-C8LFSbXbX9"
      },
      "outputs": [],
      "source": [
        "df.describe().T"
      ]
    },
    {
      "cell_type": "markdown",
      "metadata": {
        "id": "phd_EOH2WKsK"
      },
      "source": [
        "#Train Test Split"
      ]
    },
    {
      "cell_type": "code",
      "execution_count": null,
      "metadata": {
        "id": "-b2kW6h43d0e"
      },
      "outputs": [],
      "source": [
        "#most successful campaign\n",
        "campaign = df.loc[:,['AcceptedCmp1','AcceptedCmp2','AcceptedCmp3','AcceptedCmp4','AcceptedCmp5','Response']]\n",
        "\n",
        "campaign = campaign.melt()\n",
        "campaign = pd.crosstab(campaign[\"variable\"], campaign[\"value\"])\n",
        "\n",
        "cols = list(campaign.columns)\n",
        "a, b = cols.index(0), cols.index(1)\n",
        "cols[b], cols[a] = cols[a], cols[b]\n",
        "campaign = campaign[cols]\n",
        "\n",
        "campaign.columns = \"Yes\",\"No\"\n",
        "campaign.plot.bar(stacked=True)\n",
        "plt.title('Acceptance of Marketing Campaigns')\n",
        "plt.xlabel('Campaign')\n",
        "plt.ylabel('Acceptance')\n",
        "plt.legend(title='Response',loc='upper right')\n",
        "plt.show()"
      ]
    },
    {
      "cell_type": "code",
      "execution_count": null,
      "metadata": {
        "id": "UAUPrIpc8EX0"
      },
      "outputs": [],
      "source": [
        "df['AcceptedCmpOverall'].value_counts()"
      ]
    },
    {
      "cell_type": "markdown",
      "metadata": {
        "id": "qHBjFbbxK0wE"
      },
      "source": [
        "We only used the last campaign as the target because it has the most significant effect over all campaign."
      ]
    },
    {
      "cell_type": "code",
      "execution_count": null,
      "metadata": {
        "id": "rgQGe8CMWYYV"
      },
      "outputs": [],
      "source": [
        "X = df.drop([\"Response\"], axis = 1)\n",
        "y = df[\"Response\"]"
      ]
    },
    {
      "cell_type": "code",
      "execution_count": null,
      "metadata": {
        "id": "C5pMMczCWiju"
      },
      "outputs": [],
      "source": [
        "X_train, X_test, y_train, y_test = train_test_split(\n",
        "    X,\n",
        "    y, \n",
        "    test_size=0.2,\n",
        "    stratify = y, \n",
        "    random_state=1000\n",
        ")"
      ]
    },
    {
      "cell_type": "markdown",
      "metadata": {
        "id": "jypsxXgYWzLO"
      },
      "source": [
        "# EDA"
      ]
    },
    {
      "cell_type": "code",
      "execution_count": null,
      "metadata": {
        "id": "fi52Zv4qW8mo"
      },
      "outputs": [],
      "source": [
        "#Define function for proportion\n",
        "def prop_agg(df, y, x):\n",
        "  temp_df = df.groupby([y,x], as_index = False).size()\n",
        "  temp_df['prop'] = temp_df['size'] / temp_df.groupby(y)['size'].transform('sum')\n",
        "  return temp_df"
      ]
    },
    {
      "cell_type": "code",
      "execution_count": null,
      "metadata": {
        "id": "l2b1XrE-W1Lx"
      },
      "outputs": [],
      "source": [
        "X_train[\"Response\"] = y_train"
      ]
    },
    {
      "cell_type": "markdown",
      "metadata": {
        "id": "Df-3vQtjhmXU"
      },
      "source": [
        "##Age"
      ]
    },
    {
      "cell_type": "code",
      "execution_count": null,
      "metadata": {
        "id": "B24jaJnBaob_"
      },
      "outputs": [],
      "source": [
        "X_train[\"age_bin\"] = pd.cut(X_train['Age'],bins=[20,30,40,50,60,70,80],labels=['21-30','31-40','41-50','51-60',\"61-70\", \"71+\"])"
      ]
    },
    {
      "cell_type": "code",
      "execution_count": null,
      "metadata": {
        "id": "u8vIF8nlcI6R"
      },
      "outputs": [],
      "source": [
        "prop_agg(X_train, \"age_bin\", \"Response\")"
      ]
    },
    {
      "cell_type": "code",
      "execution_count": null,
      "metadata": {
        "id": "Hvk8gcyCbYM6"
      },
      "outputs": [],
      "source": [
        "# Visualization last campaign\n",
        "g = sns.FacetGrid(data = prop_agg(X_train, \"age_bin\", \"Response\"),col = \"age_bin\");\n",
        "g.map(sns.barplot, \"Response\", \"prop\");"
      ]
    },
    {
      "cell_type": "markdown",
      "metadata": {
        "id": "IlF5lWqA6wo0"
      },
      "source": [
        "The last campaign, age 21-30 and 71+ has the most response percentage. Followed by 31-40 years old, 41-50 years old, 61-70 years old and 51-60 years old."
      ]
    },
    {
      "cell_type": "code",
      "execution_count": null,
      "metadata": {
        "id": "DoVsV0ab5es_"
      },
      "outputs": [],
      "source": [
        "X_train.groupby(\"age_bin\")[\"Response\"].mean()"
      ]
    },
    {
      "cell_type": "markdown",
      "metadata": {
        "id": "x_GfHMvL7G5a"
      },
      "source": [
        "**Check the income of age**"
      ]
    },
    {
      "cell_type": "code",
      "execution_count": null,
      "metadata": {
        "id": "XBdWZhrXm20_"
      },
      "outputs": [],
      "source": [
        "sns.boxplot(x = \"age_bin\", \n",
        "            y = \"Income\", \n",
        "            data = X_train,\n",
        "            palette='pastel');"
      ]
    },
    {
      "cell_type": "code",
      "execution_count": null,
      "metadata": {
        "id": "gGuXn3_hCS1l"
      },
      "outputs": [],
      "source": [
        "X_train.groupby(\"age_bin\")[\"Income\"].mean().plot(kind=\"bar\").set_title(\"Average Income by Age Group\")\n",
        "plt.ylabel(\"Average Income\")\n",
        "plt.xlabel(\"Age Group\")\n",
        "plt.xticks(rotation=0);"
      ]
    },
    {
      "cell_type": "markdown",
      "metadata": {
        "id": "ab4abvXGCEsK"
      },
      "source": [
        "We can see that there's an uptrend of average income by age group after 21-30 which 31-40 has the lowest income of them all."
      ]
    },
    {
      "cell_type": "code",
      "execution_count": null,
      "metadata": {
        "id": "rY7XnW1ToO1Z"
      },
      "outputs": [],
      "source": [
        "sns.boxplot(x = \"age_bin\", \n",
        "            y = \"MntTotal\", \n",
        "            data = X_train,\n",
        "            palette='pastel');"
      ]
    },
    {
      "cell_type": "code",
      "execution_count": null,
      "metadata": {
        "id": "zDBR6kp7DheY"
      },
      "outputs": [],
      "source": [
        "X_train.groupby(\"age_bin\")[\"MntTotal\"].mean().plot(kind=\"bar\").set_title(\"Average Expense by Age Group\")\n",
        "plt.ylabel(\"Average Expense\")\n",
        "plt.xlabel(\"Age Group\")\n",
        "plt.xticks(rotation=0);"
      ]
    },
    {
      "cell_type": "markdown",
      "metadata": {
        "id": "oiC_z9lmEYBH"
      },
      "source": [
        "Same as the income, the average expense by age group has the same trend after 21-30 years old. Maybe it is influenced by their job but we don't have that in our dataset now."
      ]
    },
    {
      "cell_type": "markdown",
      "metadata": {
        "id": "b6GhCgSKmzmh"
      },
      "source": [
        "##Dependent"
      ]
    },
    {
      "cell_type": "code",
      "execution_count": null,
      "metadata": {
        "id": "yNNA_g51cloL"
      },
      "outputs": [],
      "source": [
        "prop_agg(X_train, \"dependent_counts\", \"Response\")"
      ]
    },
    {
      "cell_type": "code",
      "execution_count": null,
      "metadata": {
        "id": "pItkwydphK2z"
      },
      "outputs": [],
      "source": [
        "# Visualization\n",
        "g = sns.FacetGrid(data = prop_agg(X_train, \"dependent_counts\", \"Response\"),col = \"dependent_counts\");\n",
        "g.map(sns.barplot, \"Response\", \"prop\");"
      ]
    },
    {
      "cell_type": "markdown",
      "metadata": {
        "id": "vVXqW5nCMPFP"
      },
      "source": [
        "As we can see that dependent count 0 has the most significant response to the last campaign."
      ]
    },
    {
      "cell_type": "code",
      "execution_count": null,
      "metadata": {
        "id": "xjLAX_TuhgZ4"
      },
      "outputs": [],
      "source": [
        "sns.boxplot(x = \"dependent_counts\", \n",
        "            y = \"Age\", \n",
        "            data = X_train,\n",
        "            palette='pastel');"
      ]
    },
    {
      "cell_type": "markdown",
      "metadata": {
        "id": "UDkiYbW9h9fu"
      },
      "source": [
        "age range of each dependent counts is vary and the 0 dependent count has the widest variation."
      ]
    },
    {
      "cell_type": "code",
      "execution_count": null,
      "metadata": {
        "id": "2jXu3G2QPIsP"
      },
      "outputs": [],
      "source": [
        "X_train.groupby(\"dependent_counts\")[\"Income\"].mean().plot(kind=\"bar\").set_title(\"Average Income by Dependent Counts\")\n",
        "plt.ylabel(\"Average Income\")\n",
        "plt.xlabel(\"Dependent Counts\")\n",
        "plt.xticks(rotation=0);"
      ]
    },
    {
      "cell_type": "markdown",
      "metadata": {
        "id": "MZi3ghpihSqA"
      },
      "source": [
        "We can see the average income that has no dependent counts is the largest of them all."
      ]
    },
    {
      "cell_type": "code",
      "execution_count": null,
      "metadata": {
        "id": "G40XL3aaoCs6"
      },
      "outputs": [],
      "source": [
        "sns.boxplot(x = \"dependent_counts\", \n",
        "            y = \"Income\", \n",
        "            data = X_train,\n",
        "            palette='pastel');"
      ]
    },
    {
      "cell_type": "code",
      "execution_count": null,
      "metadata": {
        "id": "DrobROZ0PMWb"
      },
      "outputs": [],
      "source": [
        "X_train.groupby(\"dependent_counts\")[\"MntTotal\"].mean().plot(kind=\"bar\").set_title(\"Average Expenses by Dependent Counts\")\n",
        "plt.ylabel(\"Average Expenses\")\n",
        "plt.xlabel(\"Dependent Counts\")\n",
        "plt.xticks(rotation=0);"
      ]
    },
    {
      "cell_type": "markdown",
      "metadata": {
        "id": "Hm6VVTQPh4GK"
      },
      "source": [
        "The average expenses of 0 dependent count is also the highest of them all."
      ]
    },
    {
      "cell_type": "code",
      "execution_count": null,
      "metadata": {
        "id": "LOQXNkZnZ0l6"
      },
      "outputs": [],
      "source": [
        "sns.boxplot(x = \"dependent_counts\", \n",
        "            y = \"MntTotal\", \n",
        "            data = X_train,\n",
        "            palette='pastel');"
      ]
    },
    {
      "cell_type": "markdown",
      "metadata": {
        "id": "bbowFnXRo55O"
      },
      "source": [
        "##Education"
      ]
    },
    {
      "cell_type": "code",
      "execution_count": null,
      "metadata": {
        "id": "WOs_B9thcyVZ"
      },
      "outputs": [],
      "source": [
        "prop_agg(X_train, \"education_level\", \"Response\")"
      ]
    },
    {
      "cell_type": "code",
      "execution_count": null,
      "metadata": {
        "id": "_EY2j1qFQ3c7"
      },
      "outputs": [],
      "source": [
        "# Visualization last campaign\n",
        "g = sns.FacetGrid(data = prop_agg(X_train, \"education_level\", \"Response\"),col = \"education_level\");\n",
        "g.map(sns.barplot, \"Response\", \"prop\");"
      ]
    },
    {
      "cell_type": "code",
      "execution_count": null,
      "metadata": {
        "id": "tShkoRi5pi1V"
      },
      "outputs": [],
      "source": [
        "order_el = ['Basic', '2n Cycle', 'Graduation', 'Master', 'PhD']\n",
        "sns.boxplot(x = \"education_level\", \n",
        "            y = \"Income\", \n",
        "            data = X_train,\n",
        "            order = order_el,\n",
        "            palette='pastel');"
      ]
    },
    {
      "cell_type": "markdown",
      "metadata": {
        "id": "J-qloIt541SK"
      },
      "source": [
        "We can see from the plot that education level of basic has the lowest income than the others."
      ]
    },
    {
      "cell_type": "code",
      "execution_count": null,
      "metadata": {
        "id": "dYWCh1wUPb0s"
      },
      "outputs": [],
      "source": [
        "X_train.groupby(\"education_level\")[\"Income\"].mean().loc[order_el].plot(kind=\"bar\").set_title(\"Average Income by Education Level\")\n",
        "plt.ylabel(\"Average Income\")\n",
        "plt.xlabel(\"Education\")\n",
        "plt.xticks(rotation=0);"
      ]
    },
    {
      "cell_type": "code",
      "execution_count": null,
      "metadata": {
        "id": "LQuX5dUoqGJF"
      },
      "outputs": [],
      "source": [
        "sns.boxplot(x = \"education_level\", \n",
        "            y = \"MntTotal\", \n",
        "            data = X_train,\n",
        "            order = order_el,\n",
        "            palette='pastel');"
      ]
    },
    {
      "cell_type": "code",
      "execution_count": null,
      "metadata": {
        "id": "LxikXeCOP6YT"
      },
      "outputs": [],
      "source": [
        "X_train.groupby(\"education_level\")[\"MntTotal\"].mean().loc[order_el].plot(kind=\"bar\").set_title(\"Average Expenses by Education Level\")\n",
        "plt.ylabel(\"Average Expenses\")\n",
        "plt.xlabel(\"Education Level\")\n",
        "plt.xticks(rotation=0);"
      ]
    },
    {
      "cell_type": "markdown",
      "metadata": {
        "id": "zR3m0Ejf5HtV"
      },
      "source": [
        "Because the basic average income is low it effects its expense which is low too."
      ]
    },
    {
      "cell_type": "code",
      "execution_count": null,
      "metadata": {
        "id": "xlCxuDX7myK9"
      },
      "outputs": [],
      "source": [
        "pd.pivot_table(X_train, index='age_bin', columns='education_level', values='Income', aggfunc='mean').plot(kind='bar', colormap='Set3')\n",
        "plt.ylabel('Average Income')\n",
        "plt.xlabel('Age')\n",
        "plt.legend(bbox_to_anchor=(1.02, 1), loc='upper left', borderaxespad=0);"
      ]
    },
    {
      "cell_type": "markdown",
      "metadata": {
        "id": "NOnoVk7ssh3m"
      },
      "source": [
        "As we can see from plot above that, the reason why average income of 21-30 is high because there are few people which has master degree and PhD with high income exceeding the age of 31 even until 70 years old."
      ]
    },
    {
      "cell_type": "markdown",
      "metadata": {
        "id": "fG35_wAfpxUs"
      },
      "source": [
        "##Marital"
      ]
    },
    {
      "cell_type": "code",
      "execution_count": null,
      "metadata": {
        "id": "HyEOaV1oc-3q"
      },
      "outputs": [],
      "source": [
        "prop_agg(X_train, \"marital_status\", \"Response\")"
      ]
    },
    {
      "cell_type": "code",
      "execution_count": null,
      "metadata": {
        "id": "EQTQQcJjRDun"
      },
      "outputs": [],
      "source": [
        "# Visualization last campaign\n",
        "g = sns.FacetGrid(data = prop_agg(X_train, \"marital_status\", \"Response\"),col = \"marital_status\");\n",
        "g.map(sns.barplot, \"Response\", \"prop\");"
      ]
    },
    {
      "cell_type": "code",
      "execution_count": null,
      "metadata": {
        "id": "npyATaUFp2jL"
      },
      "outputs": [],
      "source": [
        "sns.boxplot(x = \"marital_status\", \n",
        "            y = \"Income\", \n",
        "            data = X_train,\n",
        "            palette='pastel');"
      ]
    },
    {
      "cell_type": "code",
      "execution_count": null,
      "metadata": {
        "id": "42YkGzU9tvWH"
      },
      "outputs": [],
      "source": [
        "X_train.groupby(\"marital_status\")[\"Income\"].mean().plot(kind=\"bar\").set_title(\"Average Income by Marital Status\")\n",
        "plt.ylabel(\"Average Income\")\n",
        "plt.xlabel(\"Marital Status\")\n",
        "plt.xticks(rotation=0);"
      ]
    },
    {
      "cell_type": "markdown",
      "metadata": {
        "id": "nLepJy9Pu6Ge"
      },
      "source": [
        "Average income by marital status is not so different."
      ]
    },
    {
      "cell_type": "code",
      "execution_count": null,
      "metadata": {
        "id": "SVo7bTq_p-Qt"
      },
      "outputs": [],
      "source": [
        "sns.boxplot(x = \"marital_status\", \n",
        "            y = \"MntTotal\", \n",
        "            data = X_train,\n",
        "            palette='pastel');"
      ]
    },
    {
      "cell_type": "code",
      "execution_count": null,
      "metadata": {
        "id": "8PwLSDpct50t"
      },
      "outputs": [],
      "source": [
        "X_train.groupby(\"marital_status\")[\"MntTotal\"].mean().plot(kind=\"bar\").set_title(\"Average Expense by Marital Status\")\n",
        "plt.ylabel(\"Average Expense\")\n",
        "plt.xlabel(\"Marital Status\")\n",
        "plt.xticks(rotation=0);"
      ]
    },
    {
      "cell_type": "markdown",
      "metadata": {
        "id": "m866BjRzu-TQ"
      },
      "source": [
        "But for the average expense, widow is the highest of them all."
      ]
    },
    {
      "cell_type": "code",
      "execution_count": null,
      "metadata": {
        "id": "RcprF6pDuFb4"
      },
      "outputs": [],
      "source": [
        "pd.pivot_table(X_train, index='age_bin', columns='marital_status', values='Income', aggfunc='mean').plot(kind='bar', colormap='Set3')\n",
        "plt.ylabel('Average Income')\n",
        "plt.xlabel('Age')\n",
        "plt.legend(bbox_to_anchor=(1.02, 1), loc='upper left', borderaxespad=0);"
      ]
    },
    {
      "cell_type": "markdown",
      "metadata": {
        "id": "FEmgNNgHvIe8"
      },
      "source": [
        "As we can see from the plot above that 21-30 income is contributed by people who (Single, Married, and Together). Then highest of average income at 31-40 are from divorced one. Then there's no significant different in age by marital status."
      ]
    },
    {
      "cell_type": "code",
      "execution_count": null,
      "metadata": {
        "id": "6e6Uzxh0p_wA"
      },
      "outputs": [],
      "source": [
        "pd.pivot_table(X_train, index='marital_status', columns='dependent_counts', values='Response', aggfunc='mean').plot(kind='bar', colormap='Set3')\n",
        "plt.ylabel('Response')\n",
        "plt.xlabel('Marital Status')\n",
        "plt.legend(bbox_to_anchor=(1.02, 1), loc='upper left', borderaxespad=0);"
      ]
    },
    {
      "cell_type": "markdown",
      "metadata": {
        "id": "9WJVkguy5jPh"
      },
      "source": [
        "It seems there's relationship between dependent count 0 and they who live alone (single, divorced, and widow) which has the highest response to the last campaign. But the married and together but has no dependents also get high response to the last campaign."
      ]
    },
    {
      "cell_type": "code",
      "execution_count": null,
      "metadata": {
        "id": "YUp4MBVg6Bn6"
      },
      "outputs": [],
      "source": [
        "pd.pivot_table(X_train, index='marital_status', columns='dependent_counts', values='MntTotal', aggfunc='mean').plot(kind='bar', colormap='Set3')\n",
        "plt.ylabel('MntTotal')\n",
        "plt.xlabel('Marital Status')\n",
        "plt.legend(bbox_to_anchor=(1.02, 1), loc='upper left', borderaxespad=0);"
      ]
    },
    {
      "cell_type": "markdown",
      "metadata": {
        "id": "DpQIGZHJ8Kfg"
      },
      "source": [
        "Regardless their marital status, I think that they who do not have dependent count tends to spend more and response positively in the last campaign."
      ]
    },
    {
      "cell_type": "markdown",
      "metadata": {
        "id": "ToFsQgpxevdA"
      },
      "source": [
        "##Products"
      ]
    },
    {
      "cell_type": "code",
      "execution_count": null,
      "metadata": {
        "id": "hoEMlOJNTHH-"
      },
      "outputs": [],
      "source": [
        "sns.boxplot(x = \"Response\", y = \"MntWines\", data = X_train);"
      ]
    },
    {
      "cell_type": "code",
      "execution_count": null,
      "metadata": {
        "id": "kDx79upZUFMr"
      },
      "outputs": [],
      "source": [
        "sns.boxplot(x = \"Response\", y = \"MntMeatProducts\", data = X_train);"
      ]
    },
    {
      "cell_type": "code",
      "execution_count": null,
      "metadata": {
        "id": "z1_0rUtXUKoc"
      },
      "outputs": [],
      "source": [
        "sns.boxplot(x = \"Response\", y = \"MntFruits\", data = X_train);"
      ]
    },
    {
      "cell_type": "code",
      "execution_count": null,
      "metadata": {
        "id": "y3AmEPBuURbJ"
      },
      "outputs": [],
      "source": [
        "sns.boxplot(x = \"Response\", y = \"MntFishProducts\", data = X_train);"
      ]
    },
    {
      "cell_type": "code",
      "execution_count": null,
      "metadata": {
        "id": "q-9iUJe4UWjs"
      },
      "outputs": [],
      "source": [
        "sns.boxplot(x = \"Response\", y = \"MntSweetProducts\", data = X_train);"
      ]
    },
    {
      "cell_type": "code",
      "execution_count": null,
      "metadata": {
        "id": "CC1Rj53WUdhI"
      },
      "outputs": [],
      "source": [
        "sns.boxplot(x = \"Response\", y = \"MntGoldProds\", data = X_train);"
      ]
    },
    {
      "cell_type": "markdown",
      "metadata": {
        "id": "EwKLQJFcUo8t"
      },
      "source": [
        "As we can see from the boxplots above that, the one who spend more on wines, fruits, meat products, fish products, sweet products, and gold products will likely to response the last campagin than the others."
      ]
    },
    {
      "cell_type": "code",
      "execution_count": null,
      "metadata": {
        "id": "nfUpVNVI_lyp"
      },
      "outputs": [],
      "source": [
        "X_train.groupby('age_bin')[['MntWines', 'MntFruits', 'MntMeatProducts', 'MntFishProducts', 'MntSweetProducts', 'MntGoldProds']].mean().plot(kind='bar', colormap='Set3')\n",
        "plt.ylabel('Average Spend')\n",
        "plt.xlabel('Age')\n",
        "plt.legend(bbox_to_anchor=(1.02, 1), loc='upper left', borderaxespad=0);"
      ]
    },
    {
      "cell_type": "markdown",
      "metadata": {
        "id": "rOOYsjZ4SQ3p"
      },
      "source": [
        "From the plot above, we can see that average spend for each age range are wines and meat products."
      ]
    },
    {
      "cell_type": "code",
      "execution_count": null,
      "metadata": {
        "id": "yYYzLD0G-7r2"
      },
      "outputs": [],
      "source": [
        "X_train.groupby('dependent_counts')[['MntWines', 'MntFruits', 'MntMeatProducts', 'MntFishProducts', 'MntSweetProducts', 'MntGoldProds']].mean().plot(kind='bar', colormap='Set3')\n",
        "plt.ylabel('Average Spend')\n",
        "plt.xlabel('Dependent Counts')\n",
        "plt.legend(bbox_to_anchor=(1.02, 1), loc='upper left', borderaxespad=0);"
      ]
    },
    {
      "cell_type": "markdown",
      "metadata": {
        "id": "ehhefVsAScgz"
      },
      "source": [
        "The same with the age, the average spend for each dependent counts are wines and meat products."
      ]
    },
    {
      "cell_type": "markdown",
      "metadata": {
        "id": "K1t4jM5FVIgs"
      },
      "source": [
        "#Pre-Processing"
      ]
    },
    {
      "cell_type": "markdown",
      "metadata": {
        "id": "W1pnNb9dVewW"
      },
      "source": [
        "**Typecasting Categorical Value Into Numeric**"
      ]
    },
    {
      "cell_type": "code",
      "execution_count": null,
      "metadata": {
        "id": "-RItvOZmVLg4"
      },
      "outputs": [],
      "source": [
        "X_train['education_level'].replace(['Basic','2n Cycle','Graduation','Master','PhD'],[0,1,2,3,4], inplace=True)\n",
        "X_train['marital_status'].replace(['Single','Together','Married','Divorced', 'Widow'],[0,1,2,3,4], inplace=True)"
      ]
    },
    {
      "cell_type": "code",
      "execution_count": null,
      "metadata": {
        "id": "AgqjQMC7WcoT"
      },
      "outputs": [],
      "source": [
        "X_test['education_level'].replace(['Basic','2n Cycle','Graduation','Master','PhD'],[0,1,2,3,4], inplace=True)\n",
        "X_test['marital_status'].replace(['Single','Together','Married','Divorced', 'Widow'],[0,1,2,3,4], inplace=True)"
      ]
    },
    {
      "cell_type": "code",
      "execution_count": null,
      "metadata": {
        "id": "XGVwVogXWhHl"
      },
      "outputs": [],
      "source": [
        "X_train = X_train.drop([\"Response\"], axis=1)"
      ]
    },
    {
      "cell_type": "code",
      "execution_count": null,
      "metadata": {
        "id": "OLhb5xzSWkap"
      },
      "outputs": [],
      "source": [
        "X_train.columns"
      ]
    },
    {
      "cell_type": "code",
      "execution_count": null,
      "metadata": {
        "id": "d0XWfz3uXiwm"
      },
      "outputs": [],
      "source": [
        "drop_col1 = [\"age_bin\",\"Z_CostContact\",\"Z_Revenue\",\"Complain\",'AcceptedCmp3',\n",
        "       'AcceptedCmp4', 'AcceptedCmp5', 'AcceptedCmp1', 'AcceptedCmp2']\n",
        "drop_col2 = [\"Z_CostContact\",\"Z_Revenue\",\"Complain\",'AcceptedCmp3',\n",
        "       'AcceptedCmp4', 'AcceptedCmp5', 'AcceptedCmp1', 'AcceptedCmp2']\n",
        "\n",
        "\n",
        "X_train = X_train.drop(drop_col1,axis=1)\n",
        "X_test = X_test.drop(drop_col2, axis=1)"
      ]
    },
    {
      "cell_type": "markdown",
      "metadata": {
        "id": "9ga9onBldm8A"
      },
      "source": [
        "#Modeling"
      ]
    },
    {
      "cell_type": "markdown",
      "metadata": {
        "id": "U6Dh_IuSdvd-"
      },
      "source": [
        "We will use 5 models:\n",
        "\n",
        "- KNN as a baseline model\n",
        "- Decision tree\n",
        "- Random Forest\n",
        "- SVM RBF\n",
        "- XGBoost\n",
        "\n",
        "Compare them all and choose the best model"
      ]
    },
    {
      "cell_type": "code",
      "execution_count": null,
      "metadata": {
        "id": "5hqNC5ZrWnF4"
      },
      "outputs": [],
      "source": [
        "y_train.value_counts(normalize=True)"
      ]
    },
    {
      "cell_type": "markdown",
      "metadata": {
        "id": "gJAj00Ygdyem"
      },
      "source": [
        "**KNN**"
      ]
    },
    {
      "cell_type": "code",
      "execution_count": null,
      "metadata": {
        "id": "7zdDhgBjW-9D"
      },
      "outputs": [],
      "source": [
        "knn_clf = KNeighborsClassifier(\n",
        "    n_neighbors = 5,\n",
        ")"
      ]
    },
    {
      "cell_type": "markdown",
      "metadata": {
        "id": "mael1BDMd0mk"
      },
      "source": [
        "**Decision Tree**"
      ]
    },
    {
      "cell_type": "code",
      "execution_count": null,
      "metadata": {
        "id": "PMyq_alyXDCE"
      },
      "outputs": [],
      "source": [
        "dc_clf = DecisionTreeClassifier(\n",
        "    max_depth = 5,\n",
        "    ccp_alpha = 0.001,\n",
        "    class_weight = {0: 0.156716, 1:0.843284}\n",
        ")"
      ]
    },
    {
      "cell_type": "markdown",
      "metadata": {
        "id": "fuCtXgXdd3ah"
      },
      "source": [
        "**Random Forest**"
      ]
    },
    {
      "cell_type": "code",
      "execution_count": null,
      "metadata": {
        "id": "080ZOvZrXFWr"
      },
      "outputs": [],
      "source": [
        "rf_clf = RandomForestClassifier(\n",
        "    random_state=1000,\n",
        "    n_estimators=1000,\n",
        "    class_weight = {0: 0.156716, 1:0.843284}\n",
        ")"
      ]
    },
    {
      "cell_type": "markdown",
      "metadata": {
        "id": "wbqufsaSd6QW"
      },
      "source": [
        "**SVM RBF**"
      ]
    },
    {
      "cell_type": "code",
      "execution_count": null,
      "metadata": {
        "id": "qJwL5uVWXOqL"
      },
      "outputs": [],
      "source": [
        "svm_clf = SVC(\n",
        "    random_state = 1000,\n",
        "    probability=True,\n",
        "    class_weight = {0: 0.156716, 1:0.843284}\n",
        ")"
      ]
    },
    {
      "cell_type": "markdown",
      "metadata": {
        "id": "ymIWwnYYd_FI"
      },
      "source": [
        "**XGBoost**"
      ]
    },
    {
      "cell_type": "code",
      "execution_count": null,
      "metadata": {
        "id": "59TSijAjXS3z"
      },
      "outputs": [],
      "source": [
        "xgb_clf = XGBClassifier(\n",
        "    random_state=1000,\n",
        "    n_estimators=1000,\n",
        "    class_weight = {0: 0.156716, 1:0.843284}\n",
        ")"
      ]
    },
    {
      "cell_type": "markdown",
      "metadata": {
        "id": "7LigKMfhXXf4"
      },
      "source": [
        "##Fitting the Model"
      ]
    },
    {
      "cell_type": "markdown",
      "metadata": {
        "id": "tO7gV0o_eI27"
      },
      "source": [
        "**KNN**"
      ]
    },
    {
      "cell_type": "code",
      "execution_count": null,
      "metadata": {
        "id": "xHvsABYEXZ3N"
      },
      "outputs": [],
      "source": [
        "knn_clf.fit(X_train, y_train)"
      ]
    },
    {
      "cell_type": "markdown",
      "metadata": {
        "id": "OhY4ybyaeQzB"
      },
      "source": [
        "**Decision Tree**"
      ]
    },
    {
      "cell_type": "code",
      "execution_count": null,
      "metadata": {
        "id": "uCJGimP_Xy3h"
      },
      "outputs": [],
      "source": [
        "dc_clf.fit(X_train, y_train)"
      ]
    },
    {
      "cell_type": "markdown",
      "metadata": {
        "id": "tConlfVxeT2H"
      },
      "source": [
        "**Random Forest**"
      ]
    },
    {
      "cell_type": "code",
      "execution_count": null,
      "metadata": {
        "id": "v8HyRyeeX1Sy"
      },
      "outputs": [],
      "source": [
        "rf_clf.fit(X_train, y_train)"
      ]
    },
    {
      "cell_type": "markdown",
      "metadata": {
        "id": "J72Ac8ppeWcb"
      },
      "source": [
        "**SVM RBF**"
      ]
    },
    {
      "cell_type": "code",
      "execution_count": null,
      "metadata": {
        "id": "a306cWOzX34J"
      },
      "outputs": [],
      "source": [
        "svm_clf.fit(X_train, y_train)"
      ]
    },
    {
      "cell_type": "markdown",
      "metadata": {
        "id": "YsHzW9yweb48"
      },
      "source": [
        "**XGBoost**"
      ]
    },
    {
      "cell_type": "code",
      "execution_count": null,
      "metadata": {
        "id": "17NX5miFX7nI"
      },
      "outputs": [],
      "source": [
        "xgb_clf.fit(X_train, y_train)"
      ]
    },
    {
      "cell_type": "markdown",
      "metadata": {
        "id": "u6fdOq5VX_qQ"
      },
      "source": [
        "##Model Evaluation"
      ]
    },
    {
      "cell_type": "code",
      "execution_count": null,
      "metadata": {
        "id": "v6TJaPjdYAPe"
      },
      "outputs": [],
      "source": [
        "X_train.shape"
      ]
    },
    {
      "cell_type": "code",
      "execution_count": null,
      "metadata": {
        "id": "RVqMxy16YCaW"
      },
      "outputs": [],
      "source": [
        "X_test.shape"
      ]
    },
    {
      "cell_type": "code",
      "execution_count": null,
      "metadata": {
        "id": "xcG53tl5YFdG"
      },
      "outputs": [],
      "source": [
        "# knn prediction\n",
        "knn_pred = knn_clf.predict(X_test)\n",
        "knn_pred_proba = knn_clf.predict_proba(X_test)\n",
        "\n",
        "# decision tree prediction\n",
        "dc_pred = dc_clf.predict(X_test)\n",
        "dc_pred_proba = dc_clf.predict_proba(X_test)\n",
        "\n",
        "# random forest prediction\n",
        "rf_pred = rf_clf.predict(X_test)\n",
        "rf_pred_proba = rf_clf.predict_proba(X_test)\n",
        "\n",
        "# SVM RBF prediction\n",
        "svm_pred = svm_clf.predict(X_test)\n",
        "svm_pred_proba = svm_clf.predict_proba(X_test)\n",
        "\n",
        "# XGBoost prediction\n",
        "xgb_pred = xgb_clf.predict(X_test)\n",
        "xgb_pred_proba = xgb_clf.predict_proba(X_test)"
      ]
    },
    {
      "cell_type": "markdown",
      "metadata": {
        "id": "q2ud6X9velDk"
      },
      "source": [
        "**KNN**"
      ]
    },
    {
      "cell_type": "code",
      "execution_count": null,
      "metadata": {
        "id": "dFTRy00tYGls"
      },
      "outputs": [],
      "source": [
        "pd.DataFrame(metrics.classification_report(y_test, knn_pred, target_names=['No Response','Response'], output_dict=True))"
      ]
    },
    {
      "cell_type": "code",
      "execution_count": null,
      "metadata": {
        "id": "tyT53JmiYTOc"
      },
      "outputs": [],
      "source": [
        "# knn result\n",
        "skplt.metrics.plot_confusion_matrix(y_test, knn_pred);"
      ]
    },
    {
      "cell_type": "code",
      "execution_count": null,
      "metadata": {
        "id": "g4qjjX9JYYJ1"
      },
      "outputs": [],
      "source": [
        "skplt.metrics.plot_roc_curve(y_test, knn_pred_proba);"
      ]
    },
    {
      "cell_type": "markdown",
      "metadata": {
        "id": "z7rc5ipzeqkq"
      },
      "source": [
        "**Decision Tree**"
      ]
    },
    {
      "cell_type": "code",
      "execution_count": null,
      "metadata": {
        "id": "rpNWxqXRYaX2"
      },
      "outputs": [],
      "source": [
        "pd.DataFrame(metrics.classification_report(y_test, dc_pred, target_names=['No Response','Response'], output_dict=True))"
      ]
    },
    {
      "cell_type": "code",
      "execution_count": null,
      "metadata": {
        "id": "P9AaQh5JYfRw"
      },
      "outputs": [],
      "source": [
        "# decision tree result\n",
        "skplt.metrics.plot_confusion_matrix(y_test, dc_pred);"
      ]
    },
    {
      "cell_type": "code",
      "execution_count": null,
      "metadata": {
        "id": "Ol9YPMA0Yixv"
      },
      "outputs": [],
      "source": [
        "skplt.metrics.plot_roc_curve(y_test, dc_pred_proba);"
      ]
    },
    {
      "cell_type": "markdown",
      "metadata": {
        "id": "pLmRmC1CevCm"
      },
      "source": [
        "**Random Forest**"
      ]
    },
    {
      "cell_type": "code",
      "execution_count": null,
      "metadata": {
        "id": "vXNR4zyZYmZA"
      },
      "outputs": [],
      "source": [
        "pd.DataFrame(metrics.classification_report(y_test, rf_pred, target_names=['No Response','Response'], output_dict=True))"
      ]
    },
    {
      "cell_type": "code",
      "execution_count": null,
      "metadata": {
        "id": "KcN4KiFGYrCP"
      },
      "outputs": [],
      "source": [
        "# randomforest result\n",
        "skplt.metrics.plot_confusion_matrix(y_test, rf_pred);"
      ]
    },
    {
      "cell_type": "code",
      "execution_count": null,
      "metadata": {
        "id": "7D6zFUsNYwyB"
      },
      "outputs": [],
      "source": [
        "skplt.metrics.plot_roc_curve(y_test, rf_pred_proba);"
      ]
    },
    {
      "cell_type": "markdown",
      "metadata": {
        "id": "UZjZmebTe2Vb"
      },
      "source": [
        "**SVM RBF**"
      ]
    },
    {
      "cell_type": "code",
      "execution_count": null,
      "metadata": {
        "id": "NG31WVqLY0fD"
      },
      "outputs": [],
      "source": [
        "pd.DataFrame(metrics.classification_report(y_test, svm_pred, target_names=['No Response','Response'], output_dict=True))"
      ]
    },
    {
      "cell_type": "code",
      "execution_count": null,
      "metadata": {
        "id": "ag2bkJD3Y6At"
      },
      "outputs": [],
      "source": [
        "# svm result\n",
        "skplt.metrics.plot_confusion_matrix(y_test, svm_pred);"
      ]
    },
    {
      "cell_type": "code",
      "execution_count": null,
      "metadata": {
        "id": "RpbrfTCGY_gk"
      },
      "outputs": [],
      "source": [
        "skplt.metrics.plot_roc_curve(y_test, svm_pred_proba);"
      ]
    },
    {
      "cell_type": "markdown",
      "metadata": {
        "id": "4M6ttNATe9fW"
      },
      "source": [
        "**XGBoost**"
      ]
    },
    {
      "cell_type": "code",
      "execution_count": null,
      "metadata": {
        "id": "X_J_a7bHZBUW"
      },
      "outputs": [],
      "source": [
        "pd.DataFrame(metrics.classification_report(y_test, xgb_pred, target_names=['No Response','Response'], output_dict=True))"
      ]
    },
    {
      "cell_type": "code",
      "execution_count": null,
      "metadata": {
        "id": "ZbNWW3kgZF9-"
      },
      "outputs": [],
      "source": [
        "# xgboost result\n",
        "skplt.metrics.plot_confusion_matrix(y_test, xgb_pred);"
      ]
    },
    {
      "cell_type": "code",
      "execution_count": null,
      "metadata": {
        "id": "63TwzxiOZLm-"
      },
      "outputs": [],
      "source": [
        "skplt.metrics.plot_roc_curve(y_test, xgb_pred_proba);"
      ]
    },
    {
      "cell_type": "markdown",
      "metadata": {
        "id": "AkMhCm6nfIsK"
      },
      "source": [
        "#Explanatory Model Analysis"
      ]
    },
    {
      "cell_type": "markdown",
      "metadata": {
        "id": "NAXY_N7vfM1J"
      },
      "source": [
        "##Feature Importance"
      ]
    },
    {
      "cell_type": "code",
      "execution_count": null,
      "metadata": {
        "id": "PG947NDFZWUf"
      },
      "outputs": [],
      "source": [
        "## initiate explainer for XGBoost model\n",
        "response_xgb_exp = dx.Explainer(xgb_clf, X_train, y_train, label = \"XGBoost Interpretation\")"
      ]
    },
    {
      "cell_type": "code",
      "execution_count": null,
      "metadata": {
        "id": "Bqh9V35sZYiX"
      },
      "outputs": [],
      "source": [
        "# visualize permutation feature importance for Random Forest Model\n",
        "response_xgb_exp.model_parts().plot()"
      ]
    },
    {
      "cell_type": "markdown",
      "metadata": {
        "id": "ERS48neEgb8l"
      },
      "source": [
        "From the permutation feature importance above we can conclude that there are some features that affect to campaign response. The most influence features are overall campaign accepted and recency. I think it makes sense, the recent customer do transaction and the frequent they accept the campaign, the more they will have a good response at the last marketing campaign."
      ]
    },
    {
      "cell_type": "markdown",
      "metadata": {
        "id": "c2PnVmokfUEU"
      },
      "source": [
        "##Partial Dependence Plot"
      ]
    },
    {
      "cell_type": "code",
      "execution_count": null,
      "metadata": {
        "id": "9rtV8si_ZcUx"
      },
      "outputs": [],
      "source": [
        "# create partial dependence plot of XGBoost model\n",
        "response_xgb_exp.model_profile().plot()"
      ]
    },
    {
      "cell_type": "markdown",
      "metadata": {
        "id": "wR1Uy9JwiA2B"
      },
      "source": [
        "#Interpretation\n",
        "\n",
        "1. The more recent customers do transaction, the more likely they accept the marketing campaign. (2.5x from they who has recency more than 80 days)\n",
        "2. The more customers accepted previous campaign, the more likely they accept the marketing campaign. (For more than 2 accepted campaign it will increase the probability as 44%)\n",
        "3. If customers spend more than 500 in meat product, it will increase the probability of campaign response to 61%.\n",
        "4. The longer customers have joined the commerce, the more likely they respond to the marketing campaign (increase 82% if the customers have joined more than 2700 days)\n",
        "5. The less customers spend in wines, the more likely they respond to the marketing campaign.\n",
        "6. The less number of purchases made directly in stores, the more likely customers will respond to the last marketing campaign.\n",
        "7. They who are single, divorced, and widow tend to react or respond to the marketing campaign then they who are married or life together."
      ]
    }
  ],
  "metadata": {
    "colab": {
      "collapsed_sections": [],
      "toc_visible": true,
      "provenance": [],
      "authorship_tag": "ABX9TyPjDvgdOu23eQWVVnL7BVH3",
      "include_colab_link": true
    },
    "kernelspec": {
      "display_name": "Python 3",
      "name": "python3"
    },
    "language_info": {
      "name": "python"
    }
  },
  "nbformat": 4,
  "nbformat_minor": 0
}